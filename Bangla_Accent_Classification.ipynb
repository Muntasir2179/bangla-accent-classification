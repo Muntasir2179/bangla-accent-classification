{
  "cells": [
    {
      "cell_type": "markdown",
      "metadata": {
        "id": "view-in-github",
        "colab_type": "text"
      },
      "source": [
        "<a href=\"https://colab.research.google.com/github/Muntasir2179/bangla-accent-classification/blob/model-testing/Bangla_Accent_Classification.ipynb\" target=\"_parent\"><img src=\"https://colab.research.google.com/assets/colab-badge.svg\" alt=\"Open In Colab\"/></a>"
      ]
    },
    {
      "cell_type": "markdown",
      "source": [
        "## Installing dependencies and importing libraries"
      ],
      "metadata": {
        "id": "I42_K4kgVzNr"
      },
      "id": "I42_K4kgVzNr"
    },
    {
      "cell_type": "code",
      "source": [
        "!pip install resampy"
      ],
      "metadata": {
        "colab": {
          "base_uri": "https://localhost:8080/"
        },
        "id": "FSIWwxFBYbt4",
        "outputId": "99bbf615-c2b5-4fa4-ea18-2cfa2c222092"
      },
      "id": "FSIWwxFBYbt4",
      "execution_count": null,
      "outputs": [
        {
          "output_type": "stream",
          "name": "stdout",
          "text": [
            "Looking in indexes: https://pypi.org/simple, https://us-python.pkg.dev/colab-wheels/public/simple/\n",
            "Requirement already satisfied: resampy in /usr/local/lib/python3.10/dist-packages (0.4.2)\n",
            "Requirement already satisfied: numpy>=1.17 in /usr/local/lib/python3.10/dist-packages (from resampy) (1.22.4)\n",
            "Requirement already satisfied: numba>=0.53 in /usr/local/lib/python3.10/dist-packages (from resampy) (0.56.4)\n",
            "Requirement already satisfied: llvmlite<0.40,>=0.39.0dev0 in /usr/local/lib/python3.10/dist-packages (from numba>=0.53->resampy) (0.39.1)\n",
            "Requirement already satisfied: setuptools in /usr/local/lib/python3.10/dist-packages (from numba>=0.53->resampy) (67.7.2)\n"
          ]
        }
      ]
    },
    {
      "cell_type": "code",
      "source": [
        "from google.colab import drive\n",
        "drive.mount('/content/drive')"
      ],
      "metadata": {
        "colab": {
          "base_uri": "https://localhost:8080/"
        },
        "id": "2ZUkGdt8VukF",
        "outputId": "08a59cf8-1383-4610-9744-3dfd49d9d3ae"
      },
      "id": "2ZUkGdt8VukF",
      "execution_count": null,
      "outputs": [
        {
          "output_type": "stream",
          "name": "stdout",
          "text": [
            "Drive already mounted at /content/drive; to attempt to forcibly remount, call drive.mount(\"/content/drive\", force_remount=True).\n"
          ]
        }
      ]
    },
    {
      "cell_type": "code",
      "execution_count": null,
      "id": "liberal-journalist",
      "metadata": {
        "id": "liberal-journalist"
      },
      "outputs": [],
      "source": [
        "import pandas as pd\n",
        "import numpy as np\n",
        "import matplotlib.pyplot as plt\n",
        "import seaborn as sns\n",
        "import os\n",
        "import resampy"
      ]
    },
    {
      "cell_type": "markdown",
      "source": [
        "## Importing metadata to access audio files"
      ],
      "metadata": {
        "id": "0hN_a9cma8xW"
      },
      "id": "0hN_a9cma8xW"
    },
    {
      "cell_type": "code",
      "source": [
        "audio_dataset_path='/content/drive/MyDrive/Datasets/Bangla Accent Dataset/audio/'\n",
        "metadata=pd.read_csv('/content/drive/MyDrive/Datasets/Bangla Accent Dataset/metadata.csv')"
      ],
      "metadata": {
        "id": "mFrd5QjaWddp"
      },
      "id": "mFrd5QjaWddp",
      "execution_count": null,
      "outputs": []
    },
    {
      "cell_type": "code",
      "source": [
        "metadata.head()"
      ],
      "metadata": {
        "colab": {
          "base_uri": "https://localhost:8080/",
          "height": 206
        },
        "id": "twFDPCNbWfKp",
        "outputId": "85335bae-3b52-43b3-b402-10826bed6cc6"
      },
      "id": "twFDPCNbWfKp",
      "execution_count": null,
      "outputs": [
        {
          "output_type": "execute_result",
          "data": {
            "text/plain": [
              "               file_name folder_name    accent\n",
              "0  barishal_audio_01.wav    barishal  barishal\n",
              "1  barishal_audio_02.wav    barishal  barishal\n",
              "2  barishal_audio_03.wav    barishal  barishal\n",
              "3  barishal_audio_04.wav    barishal  barishal\n",
              "4  barishal_audio_05.wav    barishal  barishal"
            ],
            "text/html": [
              "\n",
              "  <div id=\"df-935bc614-a49c-4c9a-958b-2dcc227640b7\">\n",
              "    <div class=\"colab-df-container\">\n",
              "      <div>\n",
              "<style scoped>\n",
              "    .dataframe tbody tr th:only-of-type {\n",
              "        vertical-align: middle;\n",
              "    }\n",
              "\n",
              "    .dataframe tbody tr th {\n",
              "        vertical-align: top;\n",
              "    }\n",
              "\n",
              "    .dataframe thead th {\n",
              "        text-align: right;\n",
              "    }\n",
              "</style>\n",
              "<table border=\"1\" class=\"dataframe\">\n",
              "  <thead>\n",
              "    <tr style=\"text-align: right;\">\n",
              "      <th></th>\n",
              "      <th>file_name</th>\n",
              "      <th>folder_name</th>\n",
              "      <th>accent</th>\n",
              "    </tr>\n",
              "  </thead>\n",
              "  <tbody>\n",
              "    <tr>\n",
              "      <th>0</th>\n",
              "      <td>barishal_audio_01.wav</td>\n",
              "      <td>barishal</td>\n",
              "      <td>barishal</td>\n",
              "    </tr>\n",
              "    <tr>\n",
              "      <th>1</th>\n",
              "      <td>barishal_audio_02.wav</td>\n",
              "      <td>barishal</td>\n",
              "      <td>barishal</td>\n",
              "    </tr>\n",
              "    <tr>\n",
              "      <th>2</th>\n",
              "      <td>barishal_audio_03.wav</td>\n",
              "      <td>barishal</td>\n",
              "      <td>barishal</td>\n",
              "    </tr>\n",
              "    <tr>\n",
              "      <th>3</th>\n",
              "      <td>barishal_audio_04.wav</td>\n",
              "      <td>barishal</td>\n",
              "      <td>barishal</td>\n",
              "    </tr>\n",
              "    <tr>\n",
              "      <th>4</th>\n",
              "      <td>barishal_audio_05.wav</td>\n",
              "      <td>barishal</td>\n",
              "      <td>barishal</td>\n",
              "    </tr>\n",
              "  </tbody>\n",
              "</table>\n",
              "</div>\n",
              "      <button class=\"colab-df-convert\" onclick=\"convertToInteractive('df-935bc614-a49c-4c9a-958b-2dcc227640b7')\"\n",
              "              title=\"Convert this dataframe to an interactive table.\"\n",
              "              style=\"display:none;\">\n",
              "        \n",
              "  <svg xmlns=\"http://www.w3.org/2000/svg\" height=\"24px\"viewBox=\"0 0 24 24\"\n",
              "       width=\"24px\">\n",
              "    <path d=\"M0 0h24v24H0V0z\" fill=\"none\"/>\n",
              "    <path d=\"M18.56 5.44l.94 2.06.94-2.06 2.06-.94-2.06-.94-.94-2.06-.94 2.06-2.06.94zm-11 1L8.5 8.5l.94-2.06 2.06-.94-2.06-.94L8.5 2.5l-.94 2.06-2.06.94zm10 10l.94 2.06.94-2.06 2.06-.94-2.06-.94-.94-2.06-.94 2.06-2.06.94z\"/><path d=\"M17.41 7.96l-1.37-1.37c-.4-.4-.92-.59-1.43-.59-.52 0-1.04.2-1.43.59L10.3 9.45l-7.72 7.72c-.78.78-.78 2.05 0 2.83L4 21.41c.39.39.9.59 1.41.59.51 0 1.02-.2 1.41-.59l7.78-7.78 2.81-2.81c.8-.78.8-2.07 0-2.86zM5.41 20L4 18.59l7.72-7.72 1.47 1.35L5.41 20z\"/>\n",
              "  </svg>\n",
              "      </button>\n",
              "      \n",
              "  <style>\n",
              "    .colab-df-container {\n",
              "      display:flex;\n",
              "      flex-wrap:wrap;\n",
              "      gap: 12px;\n",
              "    }\n",
              "\n",
              "    .colab-df-convert {\n",
              "      background-color: #E8F0FE;\n",
              "      border: none;\n",
              "      border-radius: 50%;\n",
              "      cursor: pointer;\n",
              "      display: none;\n",
              "      fill: #1967D2;\n",
              "      height: 32px;\n",
              "      padding: 0 0 0 0;\n",
              "      width: 32px;\n",
              "    }\n",
              "\n",
              "    .colab-df-convert:hover {\n",
              "      background-color: #E2EBFA;\n",
              "      box-shadow: 0px 1px 2px rgba(60, 64, 67, 0.3), 0px 1px 3px 1px rgba(60, 64, 67, 0.15);\n",
              "      fill: #174EA6;\n",
              "    }\n",
              "\n",
              "    [theme=dark] .colab-df-convert {\n",
              "      background-color: #3B4455;\n",
              "      fill: #D2E3FC;\n",
              "    }\n",
              "\n",
              "    [theme=dark] .colab-df-convert:hover {\n",
              "      background-color: #434B5C;\n",
              "      box-shadow: 0px 1px 3px 1px rgba(0, 0, 0, 0.15);\n",
              "      filter: drop-shadow(0px 1px 2px rgba(0, 0, 0, 0.3));\n",
              "      fill: #FFFFFF;\n",
              "    }\n",
              "  </style>\n",
              "\n",
              "      <script>\n",
              "        const buttonEl =\n",
              "          document.querySelector('#df-935bc614-a49c-4c9a-958b-2dcc227640b7 button.colab-df-convert');\n",
              "        buttonEl.style.display =\n",
              "          google.colab.kernel.accessAllowed ? 'block' : 'none';\n",
              "\n",
              "        async function convertToInteractive(key) {\n",
              "          const element = document.querySelector('#df-935bc614-a49c-4c9a-958b-2dcc227640b7');\n",
              "          const dataTable =\n",
              "            await google.colab.kernel.invokeFunction('convertToInteractive',\n",
              "                                                     [key], {});\n",
              "          if (!dataTable) return;\n",
              "\n",
              "          const docLinkHtml = 'Like what you see? Visit the ' +\n",
              "            '<a target=\"_blank\" href=https://colab.research.google.com/notebooks/data_table.ipynb>data table notebook</a>'\n",
              "            + ' to learn more about interactive tables.';\n",
              "          element.innerHTML = '';\n",
              "          dataTable['output_type'] = 'display_data';\n",
              "          await google.colab.output.renderOutput(dataTable, element);\n",
              "          const docLink = document.createElement('div');\n",
              "          docLink.innerHTML = docLinkHtml;\n",
              "          element.appendChild(docLink);\n",
              "        }\n",
              "      </script>\n",
              "    </div>\n",
              "  </div>\n",
              "  "
            ]
          },
          "metadata": {},
          "execution_count": 5
        }
      ]
    },
    {
      "cell_type": "code",
      "source": [
        "len(metadata)"
      ],
      "metadata": {
        "colab": {
          "base_uri": "https://localhost:8080/"
        },
        "id": "PsTB-tj55Q5U",
        "outputId": "9b23fa59-c94f-47fb-878c-a96ba0a58a35"
      },
      "id": "PsTB-tj55Q5U",
      "execution_count": null,
      "outputs": [
        {
          "output_type": "execute_result",
          "data": {
            "text/plain": [
              "370"
            ]
          },
          "metadata": {},
          "execution_count": 6
        }
      ]
    },
    {
      "cell_type": "markdown",
      "source": [
        "## EDA of random audio file"
      ],
      "metadata": {
        "id": "8JLXck7IEIwh"
      },
      "id": "8JLXck7IEIwh"
    },
    {
      "cell_type": "code",
      "source": [
        "fig, ax = plt.subplots(figsize=(10, 5))\n",
        "sns.countplot(x=metadata['accent'], ax=ax)\n",
        "plt.xlabel('Accent Class Names')\n",
        "plt.ylabel('Number of Samples')\n",
        "plt.show()"
      ],
      "metadata": {
        "colab": {
          "base_uri": "https://localhost:8080/",
          "height": 465
        },
        "id": "6Irqf4CnUZli",
        "outputId": "47911620-f11d-4b34-fedf-1dd8f3386629"
      },
      "id": "6Irqf4CnUZli",
      "execution_count": null,
      "outputs": [
        {
          "output_type": "display_data",
          "data": {
            "text/plain": [
              "<Figure size 1000x500 with 1 Axes>"
            ],
            "image/png": "[encoded data removed]"
          },
          "metadata": {}
        }
      ]
    },
    {
      "cell_type": "code",
      "source": [
        "import librosa\n",
        "import librosa.display"
      ],
      "metadata": {
        "id": "fr6bSmwzFhhC"
      },
      "id": "fr6bSmwzFhhC",
      "execution_count": null,
      "outputs": []
    },
    {
      "cell_type": "code",
      "source": [
        "audio_file = '/content/drive/MyDrive/Datasets/Bangla Accent Dataset/audio/barishal/barishal_audio_01.wav'\n",
        "signal, sr = librosa.load(audio_file, res_type='kaiser_fast')\n",
        "librosa.display.waveshow(signal, sr=sr)\n",
        "plt.xlabel(\"Time\")\n",
        "plt.ylabel(\"Amplitude\")\n",
        "plt.show()"
      ],
      "metadata": {
        "colab": {
          "base_uri": "https://localhost:8080/",
          "height": 449
        },
        "id": "yUemTMTSEjpK",
        "outputId": "ef920f2b-e922-48d5-98e5-3a9907aa2056"
      },
      "id": "yUemTMTSEjpK",
      "execution_count": null,
      "outputs": [
        {
          "output_type": "display_data",
          "data": {
            "text/plain": [
              "<Figure size 640x480 with 1 Axes>"
            ],
            "image/png": "[encoded data removed]"
          },
          "metadata": {}
        }
      ]
    },
    {
      "cell_type": "code",
      "source": [
        "fft = np.fft.fft(signal)\n",
        "magnitude = np.abs(fft)\n",
        "frequency = np.linspace(0, sr, len(magnitude))\n",
        "\n",
        "# we have wsed forier transformation to exclude the mirror effect on the data.\n",
        "left_frequency = frequency[:int(len(frequency)/2)]\n",
        "left_magnitude = magnitude[:int(len(magnitude)/2)]\n",
        "\n",
        "plt.plot(left_frequency, left_magnitude)\n",
        "plt.xlabel(\"Frequency\")\n",
        "plt.ylabel(\"Magnitude\")\n",
        "plt.show()\n",
        "\n",
        "# we can see that most of the energy is concentrated on the lower frequencies and the less energy liaes in the middle range frequency."
      ],
      "metadata": {
        "colab": {
          "base_uri": "https://localhost:8080/",
          "height": 452
        },
        "id": "qOywjCAnGAhC",
        "outputId": "10d23fa4-f67c-446c-8498-0880a8989ad0"
      },
      "id": "qOywjCAnGAhC",
      "execution_count": null,
      "outputs": [
        {
          "output_type": "display_data",
          "data": {
            "text/plain": [
              "<Figure size 640x480 with 1 Axes>"
            ],
            "image/png": "[encoded data removed]"
          },
          "metadata": {}
        }
      ]
    },
    {
      "cell_type": "code",
      "source": [
        "n_fft = 2048\n",
        "hop_length = 512\n",
        "\n",
        "stft = librosa.core.stft(signal, hop_length=hop_length, n_fft=n_fft)\n",
        "spectrogram = np.abs(stft)\n",
        "\n",
        "log_spectrogram = librosa.amplitude_to_db(spectrogram)\n",
        "\n",
        "librosa.display.specshow(log_spectrogram, sr=sr, hop_length=hop_length)\n",
        "plt.xlabel(\"Time\")\n",
        "plt.ylabel(\"Frequency\")\n",
        "plt.colorbar()\n",
        "plt.show()\n",
        "\n",
        "# Through spectrogram analysis we can see that it also states that the most of the energy consists in the lower frequency.\n",
        "# The spectrogram remains stable through out time."
      ],
      "metadata": {
        "colab": {
          "base_uri": "https://localhost:8080/",
          "height": 426
        },
        "id": "KOfZMEWMINRh",
        "outputId": "9eec4bf2-b438-496b-aaa9-503229fb7e07"
      },
      "id": "KOfZMEWMINRh",
      "execution_count": null,
      "outputs": [
        {
          "output_type": "display_data",
          "data": {
            "text/plain": [
              "<Figure size 640x480 with 2 Axes>"
            ],
            "image/png": "[encoded data removed]"
          },
          "metadata": {}
        }
      ]
    },
    {
      "cell_type": "code",
      "source": [
        "# finding mfcc\n",
        "\n",
        "MFCCs = librosa.feature.mfcc(y=signal, sr=sr, n_mfcc=13)\n",
        "\n",
        "librosa.display.specshow(MFCCs)\n",
        "plt.xlabel(\"Time\")\n",
        "plt.ylabel(\"MFCC\")\n",
        "plt.colorbar()\n",
        "plt.show()\n",
        "\n",
        "# This is the plot showing the MFCCs over time. There are 13 intervals in this spectrogram. The inteval represents the coffecients.\n",
        "# We basically seeing here that how different MFCCs evolving over time."
      ],
      "metadata": {
        "colab": {
          "base_uri": "https://localhost:8080/",
          "height": 426
        },
        "id": "4XFSDC2_KAQy",
        "outputId": "63b5cf3b-cdad-417f-8992-82f1956bebaf"
      },
      "id": "4XFSDC2_KAQy",
      "execution_count": null,
      "outputs": [
        {
          "output_type": "display_data",
          "data": {
            "text/plain": [
              "<Figure size 640x480 with 2 Axes>"
            ],
            "image/png": "[encoded data removed]"
          },
          "metadata": {}
        }
      ]
    },
    {
      "cell_type": "markdown",
      "id": "applicable-priest",
      "metadata": {
        "id": "applicable-priest"
      },
      "source": [
        "## Extract Features\n",
        "Here we will be using Mel-Frequency Cepstral Coefficients(MFCC) from the audio\n",
        "samples.\n",
        "The MFCC summarises the frequency distribution across the window size, so it is possible to analyse both the frequency and time characteristics of the sound. These audio representations will allow us to identify features for classification."
      ]
    },
    {
      "cell_type": "code",
      "execution_count": null,
      "id": "chinese-calendar",
      "metadata": {
        "id": "chinese-calendar"
      },
      "outputs": [],
      "source": [
        "# defining a function that can extract features from audio files\n",
        "\n",
        "def features_extractor(file_name):\n",
        "    audio, sample_rate = librosa.load(file_name, res_type='kaiser_fast')\n",
        "    mfccs_features = librosa.feature.mfcc(y=audio, sr=sample_rate, n_mfcc=40)\n",
        "    mfccs_scaled_features = np.mean(mfccs_features.T,axis=0)\n",
        "\n",
        "    return mfccs_scaled_features\n"
      ]
    },
    {
      "cell_type": "code",
      "source": [
        "# collecting features for all the audio files\n",
        "\n",
        "from tqdm import tqdm\n",
        "\n",
        "extracted_features=[]\n",
        "\n",
        "for index_num, row in tqdm(metadata.iterrows()):\n",
        "  accent_label = row['accent']\n",
        "  file_path = '/content/drive/MyDrive/Datasets/Bangla Accent Dataset/audio/' + str(row['folder_name']) + '/' + str(row['file_name'])\n",
        "  data = features_extractor(file_path)\n",
        "  extracted_features.append([data, accent_label])"
      ],
      "metadata": {
        "colab": {
          "base_uri": "https://localhost:8080/"
        },
        "id": "b3zOs7cHhxYS",
        "outputId": "59affafb-7ac9-4f70-f3f0-4f9c00838467"
      },
      "id": "b3zOs7cHhxYS",
      "execution_count": null,
      "outputs": [
        {
          "output_type": "stream",
          "name": "stderr",
          "text": [
            "370it [02:21,  2.61it/s]\n"
          ]
        }
      ]
    },
    {
      "cell_type": "code",
      "execution_count": null,
      "id": "acoustic-wagner",
      "metadata": {
        "id": "acoustic-wagner",
        "outputId": "529ae39f-8b85-4c61-99c0-1b394233ff8a",
        "colab": {
          "base_uri": "https://localhost:8080/",
          "height": 206
        }
      },
      "outputs": [
        {
          "output_type": "execute_result",
          "data": {
            "text/plain": [
              "                                             feature     class\n",
              "0  [-342.1416, 110.97826, -15.76264, 17.710947, -...  barishal\n",
              "1  [-299.67532, 113.31129, -15.29776, 16.303825, ...  barishal\n",
              "2  [-333.38495, 99.36539, -18.795504, 18.673012, ...  barishal\n",
              "3  [-306.11966, 120.16842, -26.124176, 14.367121,...  barishal\n",
              "4  [-329.08875, 114.36284, -7.601613, 18.476889, ...  barishal"
            ],
            "text/html": [
              "\n",
              "  <div id=\"df-52ed6380-2695-4c9d-8f19-4916ca5fc9f0\">\n",
              "    <div class=\"colab-df-container\">\n",
              "      <div>\n",
              "<style scoped>\n",
              "    .dataframe tbody tr th:only-of-type {\n",
              "        vertical-align: middle;\n",
              "    }\n",
              "\n",
              "    .dataframe tbody tr th {\n",
              "        vertical-align: top;\n",
              "    }\n",
              "\n",
              "    .dataframe thead th {\n",
              "        text-align: right;\n",
              "    }\n",
              "</style>\n",
              "<table border=\"1\" class=\"dataframe\">\n",
              "  <thead>\n",
              "    <tr style=\"text-align: right;\">\n",
              "      <th></th>\n",
              "      <th>feature</th>\n",
              "      <th>class</th>\n",
              "    </tr>\n",
              "  </thead>\n",
              "  <tbody>\n",
              "    <tr>\n",
              "      <th>0</th>\n",
              "      <td>[-342.1416, 110.97826, -15.76264, 17.710947, -...</td>\n",
              "      <td>barishal</td>\n",
              "    </tr>\n",
              "    <tr>\n",
              "      <th>1</th>\n",
              "      <td>[-299.67532, 113.31129, -15.29776, 16.303825, ...</td>\n",
              "      <td>barishal</td>\n",
              "    </tr>\n",
              "    <tr>\n",
              "      <th>2</th>\n",
              "      <td>[-333.38495, 99.36539, -18.795504, 18.673012, ...</td>\n",
              "      <td>barishal</td>\n",
              "    </tr>\n",
              "    <tr>\n",
              "      <th>3</th>\n",
              "      <td>[-306.11966, 120.16842, -26.124176, 14.367121,...</td>\n",
              "      <td>barishal</td>\n",
              "    </tr>\n",
              "    <tr>\n",
              "      <th>4</th>\n",
              "      <td>[-329.08875, 114.36284, -7.601613, 18.476889, ...</td>\n",
              "      <td>barishal</td>\n",
              "    </tr>\n",
              "  </tbody>\n",
              "</table>\n",
              "</div>\n",
              "      <button class=\"colab-df-convert\" onclick=\"convertToInteractive('df-52ed6380-2695-4c9d-8f19-4916ca5fc9f0')\"\n",
              "              title=\"Convert this dataframe to an interactive table.\"\n",
              "              style=\"display:none;\">\n",
              "        \n",
              "  <svg xmlns=\"http://www.w3.org/2000/svg\" height=\"24px\"viewBox=\"0 0 24 24\"\n",
              "       width=\"24px\">\n",
              "    <path d=\"M0 0h24v24H0V0z\" fill=\"none\"/>\n",
              "    <path d=\"M18.56 5.44l.94 2.06.94-2.06 2.06-.94-2.06-.94-.94-2.06-.94 2.06-2.06.94zm-11 1L8.5 8.5l.94-2.06 2.06-.94-2.06-.94L8.5 2.5l-.94 2.06-2.06.94zm10 10l.94 2.06.94-2.06 2.06-.94-2.06-.94-.94-2.06-.94 2.06-2.06.94z\"/><path d=\"M17.41 7.96l-1.37-1.37c-.4-.4-.92-.59-1.43-.59-.52 0-1.04.2-1.43.59L10.3 9.45l-7.72 7.72c-.78.78-.78 2.05 0 2.83L4 21.41c.39.39.9.59 1.41.59.51 0 1.02-.2 1.41-.59l7.78-7.78 2.81-2.81c.8-.78.8-2.07 0-2.86zM5.41 20L4 18.59l7.72-7.72 1.47 1.35L5.41 20z\"/>\n",
              "  </svg>\n",
              "      </button>\n",
              "      \n",
              "  <style>\n",
              "    .colab-df-container {\n",
              "      display:flex;\n",
              "      flex-wrap:wrap;\n",
              "      gap: 12px;\n",
              "    }\n",
              "\n",
              "    .colab-df-convert {\n",
              "      background-color: #E8F0FE;\n",
              "      border: none;\n",
              "      border-radius: 50%;\n",
              "      cursor: pointer;\n",
              "      display: none;\n",
              "      fill: #1967D2;\n",
              "      height: 32px;\n",
              "      padding: 0 0 0 0;\n",
              "      width: 32px;\n",
              "    }\n",
              "\n",
              "    .colab-df-convert:hover {\n",
              "      background-color: #E2EBFA;\n",
              "      box-shadow: 0px 1px 2px rgba(60, 64, 67, 0.3), 0px 1px 3px 1px rgba(60, 64, 67, 0.15);\n",
              "      fill: #174EA6;\n",
              "    }\n",
              "\n",
              "    [theme=dark] .colab-df-convert {\n",
              "      background-color: #3B4455;\n",
              "      fill: #D2E3FC;\n",
              "    }\n",
              "\n",
              "    [theme=dark] .colab-df-convert:hover {\n",
              "      background-color: #434B5C;\n",
              "      box-shadow: 0px 1px 3px 1px rgba(0, 0, 0, 0.15);\n",
              "      filter: drop-shadow(0px 1px 2px rgba(0, 0, 0, 0.3));\n",
              "      fill: #FFFFFF;\n",
              "    }\n",
              "  </style>\n",
              "\n",
              "      <script>\n",
              "        const buttonEl =\n",
              "          document.querySelector('#df-52ed6380-2695-4c9d-8f19-4916ca5fc9f0 button.colab-df-convert');\n",
              "        buttonEl.style.display =\n",
              "          google.colab.kernel.accessAllowed ? 'block' : 'none';\n",
              "\n",
              "        async function convertToInteractive(key) {\n",
              "          const element = document.querySelector('#df-52ed6380-2695-4c9d-8f19-4916ca5fc9f0');\n",
              "          const dataTable =\n",
              "            await google.colab.kernel.invokeFunction('convertToInteractive',\n",
              "                                                     [key], {});\n",
              "          if (!dataTable) return;\n",
              "\n",
              "          const docLinkHtml = 'Like what you see? Visit the ' +\n",
              "            '<a target=\"_blank\" href=https://colab.research.google.com/notebooks/data_table.ipynb>data table notebook</a>'\n",
              "            + ' to learn more about interactive tables.';\n",
              "          element.innerHTML = '';\n",
              "          dataTable['output_type'] = 'display_data';\n",
              "          await google.colab.output.renderOutput(dataTable, element);\n",
              "          const docLink = document.createElement('div');\n",
              "          docLink.innerHTML = docLinkHtml;\n",
              "          element.appendChild(docLink);\n",
              "        }\n",
              "      </script>\n",
              "    </div>\n",
              "  </div>\n",
              "  "
            ]
          },
          "metadata": {},
          "execution_count": 15
        }
      ],
      "source": [
        "# converting extracted_features to Pandas dataframe\n",
        "\n",
        "extracted_features_df=pd.DataFrame(extracted_features,columns=['feature','class'])\n",
        "extracted_features_df.head()"
      ]
    },
    {
      "cell_type": "markdown",
      "source": [
        "## Creating train and test data"
      ],
      "metadata": {
        "id": "2a6zj_ZxbZB3"
      },
      "id": "2a6zj_ZxbZB3"
    },
    {
      "cell_type": "code",
      "execution_count": null,
      "id": "characteristic-sudan",
      "metadata": {
        "id": "characteristic-sudan"
      },
      "outputs": [],
      "source": [
        "# Split the dataset into independent and dependent dataset\n",
        "\n",
        "X=np.array(extracted_features_df['feature'].tolist())\n",
        "y=np.array(extracted_features_df['class'].tolist())"
      ]
    },
    {
      "cell_type": "code",
      "execution_count": null,
      "id": "friendly-placement",
      "metadata": {
        "id": "friendly-placement",
        "outputId": "37657544-9f15-40ae-87ee-acbf79f80423",
        "colab": {
          "base_uri": "https://localhost:8080/"
        }
      },
      "outputs": [
        {
          "output_type": "execute_result",
          "data": {
            "text/plain": [
              "(370, 40)"
            ]
          },
          "metadata": {},
          "execution_count": 17
        }
      ],
      "source": [
        "X.shape"
      ]
    },
    {
      "cell_type": "code",
      "source": [
        "y.shape"
      ],
      "metadata": {
        "colab": {
          "base_uri": "https://localhost:8080/"
        },
        "id": "bv9KvChEtf5f",
        "outputId": "933b4d3c-6fde-4d36-cf70-9061dfe8a459"
      },
      "id": "bv9KvChEtf5f",
      "execution_count": null,
      "outputs": [
        {
          "output_type": "execute_result",
          "data": {
            "text/plain": [
              "(370,)"
            ]
          },
          "metadata": {},
          "execution_count": 18
        }
      ]
    },
    {
      "cell_type": "markdown",
      "source": [
        "### Applying OneHot encoding for the accent classes"
      ],
      "metadata": {
        "id": "7_HndH47bx6V"
      },
      "id": "7_HndH47bx6V"
    },
    {
      "cell_type": "code",
      "execution_count": null,
      "id": "wired-church",
      "metadata": {
        "id": "wired-church"
      },
      "outputs": [],
      "source": [
        "# OneHot Encoding\n",
        "from sklearn.preprocessing import OneHotEncoder\n",
        "\n",
        "encoder = OneHotEncoder()\n",
        "y = encoder.fit_transform((extracted_features_df['class'].to_numpy()).reshape(-1,1))"
      ]
    },
    {
      "cell_type": "code",
      "execution_count": null,
      "id": "sitting-anniversary",
      "metadata": {
        "id": "sitting-anniversary",
        "outputId": "950ad5e6-df5d-4dc4-a0b2-eba55d3df642",
        "colab": {
          "base_uri": "https://localhost:8080/"
        }
      },
      "outputs": [
        {
          "output_type": "execute_result",
          "data": {
            "text/plain": [
              "(370, 7)"
            ]
          },
          "metadata": {},
          "execution_count": 20
        }
      ],
      "source": [
        "y.shape"
      ]
    },
    {
      "cell_type": "code",
      "source": [
        "y = y.toarray()"
      ],
      "metadata": {
        "id": "wfBltHNSuwk-"
      },
      "id": "wfBltHNSuwk-",
      "execution_count": null,
      "outputs": []
    },
    {
      "cell_type": "markdown",
      "source": [
        "### Spliting features into training and test set"
      ],
      "metadata": {
        "id": "60sPHGlyboUn"
      },
      "id": "60sPHGlyboUn"
    },
    {
      "cell_type": "code",
      "execution_count": null,
      "id": "documentary-priority",
      "metadata": {
        "id": "documentary-priority"
      },
      "outputs": [],
      "source": [
        "from sklearn.model_selection import train_test_split\n",
        "X_train,X_test,y_train,y_test=train_test_split(X,y,test_size=0.2,random_state=0)"
      ]
    },
    {
      "cell_type": "code",
      "execution_count": null,
      "id": "analyzed-payday",
      "metadata": {
        "id": "analyzed-payday",
        "outputId": "8fff2493-095a-48ae-c0fd-1d41387c1e6b",
        "colab": {
          "base_uri": "https://localhost:8080/"
        }
      },
      "outputs": [
        {
          "output_type": "execute_result",
          "data": {
            "text/plain": [
              "array([[-3.2122290e+02,  1.3465916e+02, -8.4517488e+00, ...,\n",
              "         3.4541664e+00,  1.3119210e+00,  5.0603070e+00],\n",
              "       [-3.3660730e+02,  1.4341237e+02, -2.0363489e+01, ...,\n",
              "        -4.6590567e-01, -1.4581741e-01, -4.0149922e+00],\n",
              "       [-3.5933572e+02,  1.2823987e+02, -2.4713083e+01, ...,\n",
              "        -1.6508708e+00,  4.6807466e+00,  3.2050231e+00],\n",
              "       ...,\n",
              "       [-2.9593256e+02,  9.7343727e+01, -3.7784264e+01, ...,\n",
              "        -7.9790473e-01, -4.8253039e-01, -5.8494765e-01],\n",
              "       [-3.3597443e+02,  1.4668161e+02, -2.6761105e+01, ...,\n",
              "        -5.6227593e+00, -1.8982849e+00, -5.1146541e+00],\n",
              "       [-3.5010129e+02,  1.5636789e+02, -6.4765716e+00, ...,\n",
              "        -1.8918989e+00, -8.9912713e-01,  3.9256164e-01]], dtype=float32)"
            ]
          },
          "metadata": {},
          "execution_count": 23
        }
      ],
      "source": [
        "X_train"
      ]
    },
    {
      "cell_type": "code",
      "source": [
        "y_train"
      ],
      "metadata": {
        "colab": {
          "base_uri": "https://localhost:8080/"
        },
        "id": "16v6HW2ou4cW",
        "outputId": "b5d7dd46-3e39-45a1-e162-adaa8b92a0e8"
      },
      "id": "16v6HW2ou4cW",
      "execution_count": null,
      "outputs": [
        {
          "output_type": "execute_result",
          "data": {
            "text/plain": [
              "array([[0., 0., 0., ..., 0., 1., 0.],\n",
              "       [1., 0., 0., ..., 0., 0., 0.],\n",
              "       [0., 0., 0., ..., 1., 0., 0.],\n",
              "       ...,\n",
              "       [0., 0., 1., ..., 0., 0., 0.],\n",
              "       [1., 0., 0., ..., 0., 0., 0.],\n",
              "       [0., 0., 0., ..., 0., 0., 0.]])"
            ]
          },
          "metadata": {},
          "execution_count": 24
        }
      ]
    },
    {
      "cell_type": "code",
      "execution_count": null,
      "id": "flexible-lithuania",
      "metadata": {
        "id": "flexible-lithuania",
        "outputId": "36481782-fa2f-461b-82d9-06c6f2ee6ef3",
        "colab": {
          "base_uri": "https://localhost:8080/"
        }
      },
      "outputs": [
        {
          "output_type": "execute_result",
          "data": {
            "text/plain": [
              "(296, 40)"
            ]
          },
          "metadata": {},
          "execution_count": 25
        }
      ],
      "source": [
        "X_train.shape"
      ]
    },
    {
      "cell_type": "code",
      "execution_count": null,
      "id": "chemical-vermont",
      "metadata": {
        "id": "chemical-vermont",
        "outputId": "d7872357-85e9-49bd-8b7c-e8b30c054c50",
        "colab": {
          "base_uri": "https://localhost:8080/"
        }
      },
      "outputs": [
        {
          "output_type": "execute_result",
          "data": {
            "text/plain": [
              "(296, 7)"
            ]
          },
          "metadata": {},
          "execution_count": 26
        }
      ],
      "source": [
        "y_train.shape"
      ]
    },
    {
      "cell_type": "markdown",
      "id": "express-vessel",
      "metadata": {
        "id": "express-vessel"
      },
      "source": [
        "## Building ANN model"
      ]
    },
    {
      "cell_type": "code",
      "execution_count": null,
      "id": "indonesian-accessory",
      "metadata": {
        "id": "indonesian-accessory"
      },
      "outputs": [],
      "source": [
        "import tensorflow as tf\n",
        "from tensorflow.keras.models import Sequential\n",
        "from tensorflow.keras.layers import Dense,Dropout,Activation,Flatten\n",
        "from tensorflow.keras.optimizers import Adam\n",
        "\n",
        "from sklearn import metrics"
      ]
    },
    {
      "cell_type": "code",
      "execution_count": null,
      "id": "valuable-substitute",
      "metadata": {
        "id": "valuable-substitute"
      },
      "outputs": [],
      "source": [
        "# No of classes\n",
        "num_labels=y.shape[1]"
      ]
    },
    {
      "cell_type": "code",
      "execution_count": null,
      "id": "found-outside",
      "metadata": {
        "id": "found-outside"
      },
      "outputs": [],
      "source": [
        "model=Sequential()\n",
        "# first layer\n",
        "model.add(Dense(100,input_shape=(40,)))\n",
        "model.add(Activation('relu'))\n",
        "model.add(Dropout(0.2))\n",
        "# second layer\n",
        "model.add(Dense(200))\n",
        "model.add(Activation('relu'))\n",
        "model.add(Dropout(0.2))\n",
        "# third layer\n",
        "model.add(Dense(100))\n",
        "model.add(Activation('relu'))\n",
        "model.add(Dropout(0.2))\n",
        "\n",
        "# final layer\n",
        "model.add(Dense(num_labels))\n",
        "model.add(Activation('softmax'))"
      ]
    },
    {
      "cell_type": "code",
      "execution_count": null,
      "id": "described-anaheim",
      "metadata": {
        "id": "described-anaheim",
        "outputId": "1a6bc895-177a-43ba-e863-2450df11d8b6",
        "colab": {
          "base_uri": "https://localhost:8080/"
        }
      },
      "outputs": [
        {
          "output_type": "stream",
          "name": "stdout",
          "text": [
            "Model: \"sequential\"\n",
            "_________________________________________________________________\n",
            " Layer (type)                Output Shape              Param #   \n",
            "=================================================================\n",
            " dense (Dense)               (None, 100)               4100      \n",
            "                                                                 \n",
            " activation (Activation)     (None, 100)               0         \n",
            "                                                                 \n",
            " dropout (Dropout)           (None, 100)               0         \n",
            "                                                                 \n",
            " dense_1 (Dense)             (None, 200)               20200     \n",
            "                                                                 \n",
            " activation_1 (Activation)   (None, 200)               0         \n",
            "                                                                 \n",
            " dropout_1 (Dropout)         (None, 200)               0         \n",
            "                                                                 \n",
            " dense_2 (Dense)             (None, 100)               20100     \n",
            "                                                                 \n",
            " activation_2 (Activation)   (None, 100)               0         \n",
            "                                                                 \n",
            " dropout_2 (Dropout)         (None, 100)               0         \n",
            "                                                                 \n",
            " dense_3 (Dense)             (None, 7)                 707       \n",
            "                                                                 \n",
            " activation_3 (Activation)   (None, 7)                 0         \n",
            "                                                                 \n",
            "=================================================================\n",
            "Total params: 45,107\n",
            "Trainable params: 45,107\n",
            "Non-trainable params: 0\n",
            "_________________________________________________________________\n"
          ]
        }
      ],
      "source": [
        "model.summary()"
      ]
    },
    {
      "cell_type": "code",
      "execution_count": null,
      "id": "radical-finding",
      "metadata": {
        "id": "radical-finding"
      },
      "outputs": [],
      "source": [
        "model.compile(loss='categorical_crossentropy', metrics=['accuracy'], optimizer='adam')"
      ]
    },
    {
      "cell_type": "code",
      "source": [
        "model.fit(X_train, y_train, epochs=100, validation_data=(X_test, y_test))"
      ],
      "metadata": {
        "colab": {
          "base_uri": "https://localhost:8080/"
        },
        "id": "OPQXX49hjFYz",
        "outputId": "6a7b0a06-c142-498b-ef45-485d4811d10e",
        "collapsed": true
      },
      "id": "OPQXX49hjFYz",
      "execution_count": null,
      "outputs": [
        {
          "output_type": "stream",
          "name": "stdout",
          "text": [
            "Epoch 1/100\n",
            "10/10 [==============================] - 6s 27ms/step - loss: 17.0509 - accuracy: 0.2365 - val_loss: 5.1478 - val_accuracy: 0.2973\n",
            "Epoch 2/100\n",
            "10/10 [==============================] - 0s 6ms/step - loss: 9.9028 - accuracy: 0.2297 - val_loss: 2.9546 - val_accuracy: 0.3919\n",
            "Epoch 3/100\n",
            "10/10 [==============================] - 0s 8ms/step - loss: 7.2476 - accuracy: 0.2635 - val_loss: 2.9023 - val_accuracy: 0.3108\n",
            "Epoch 4/100\n",
            "10/10 [==============================] - 0s 7ms/step - loss: 4.8679 - accuracy: 0.2703 - val_loss: 1.3459 - val_accuracy: 0.5270\n",
            "Epoch 5/100\n",
            "10/10 [==============================] - 0s 7ms/step - loss: 4.1036 - accuracy: 0.2196 - val_loss: 1.5600 - val_accuracy: 0.4730\n",
            "Epoch 6/100\n",
            "10/10 [==============================] - 0s 7ms/step - loss: 3.0911 - accuracy: 0.2568 - val_loss: 1.6749 - val_accuracy: 0.4595\n",
            "Epoch 7/100\n",
            "10/10 [==============================] - 0s 7ms/step - loss: 2.6042 - accuracy: 0.2973 - val_loss: 1.7274 - val_accuracy: 0.3784\n",
            "Epoch 8/100\n",
            "10/10 [==============================] - 0s 7ms/step - loss: 2.3940 - accuracy: 0.2872 - val_loss: 1.6651 - val_accuracy: 0.3784\n",
            "Epoch 9/100\n",
            "10/10 [==============================] - 0s 9ms/step - loss: 2.2846 - accuracy: 0.2939 - val_loss: 1.6990 - val_accuracy: 0.3649\n",
            "Epoch 10/100\n",
            "10/10 [==============================] - 0s 7ms/step - loss: 2.0353 - accuracy: 0.3446 - val_loss: 1.7458 - val_accuracy: 0.3784\n",
            "Epoch 11/100\n",
            "10/10 [==============================] - 0s 6ms/step - loss: 2.1258 - accuracy: 0.3209 - val_loss: 1.7446 - val_accuracy: 0.2838\n",
            "Epoch 12/100\n",
            "10/10 [==============================] - 0s 8ms/step - loss: 2.0567 - accuracy: 0.2297 - val_loss: 1.6792 - val_accuracy: 0.3108\n",
            "Epoch 13/100\n",
            "10/10 [==============================] - 0s 8ms/step - loss: 1.8569 - accuracy: 0.3412 - val_loss: 1.6605 - val_accuracy: 0.3243\n",
            "Epoch 14/100\n",
            "10/10 [==============================] - 0s 7ms/step - loss: 1.9195 - accuracy: 0.3176 - val_loss: 1.6905 - val_accuracy: 0.3649\n",
            "Epoch 15/100\n",
            "10/10 [==============================] - 0s 6ms/step - loss: 1.8265 - accuracy: 0.3176 - val_loss: 1.7017 - val_accuracy: 0.4054\n",
            "Epoch 16/100\n",
            "10/10 [==============================] - 0s 7ms/step - loss: 1.7467 - accuracy: 0.3480 - val_loss: 1.5804 - val_accuracy: 0.4324\n",
            "Epoch 17/100\n",
            "10/10 [==============================] - 0s 8ms/step - loss: 1.7181 - accuracy: 0.3649 - val_loss: 1.4768 - val_accuracy: 0.4324\n",
            "Epoch 18/100\n",
            "10/10 [==============================] - 0s 8ms/step - loss: 1.7486 - accuracy: 0.3581 - val_loss: 1.4817 - val_accuracy: 0.4054\n",
            "Epoch 19/100\n",
            "10/10 [==============================] - 0s 6ms/step - loss: 1.6405 - accuracy: 0.3581 - val_loss: 1.4549 - val_accuracy: 0.4595\n",
            "Epoch 20/100\n",
            "10/10 [==============================] - 0s 6ms/step - loss: 1.5661 - accuracy: 0.3480 - val_loss: 1.4196 - val_accuracy: 0.5135\n",
            "Epoch 21/100\n",
            "10/10 [==============================] - 0s 7ms/step - loss: 1.6776 - accuracy: 0.3581 - val_loss: 1.3490 - val_accuracy: 0.5541\n",
            "Epoch 22/100\n",
            "10/10 [==============================] - 0s 9ms/step - loss: 1.5224 - accuracy: 0.4223 - val_loss: 1.1945 - val_accuracy: 0.5000\n",
            "Epoch 23/100\n",
            "10/10 [==============================] - 0s 7ms/step - loss: 1.3987 - accuracy: 0.4595 - val_loss: 1.1392 - val_accuracy: 0.5676\n",
            "Epoch 24/100\n",
            "10/10 [==============================] - 0s 8ms/step - loss: 1.3856 - accuracy: 0.4561 - val_loss: 1.1517 - val_accuracy: 0.5811\n",
            "Epoch 25/100\n",
            "10/10 [==============================] - 0s 7ms/step - loss: 1.4433 - accuracy: 0.4527 - val_loss: 1.1577 - val_accuracy: 0.5946\n",
            "Epoch 26/100\n",
            "10/10 [==============================] - 0s 6ms/step - loss: 1.4159 - accuracy: 0.5000 - val_loss: 1.0178 - val_accuracy: 0.5541\n",
            "Epoch 27/100\n",
            "10/10 [==============================] - 0s 6ms/step - loss: 1.4081 - accuracy: 0.4392 - val_loss: 1.0721 - val_accuracy: 0.6216\n",
            "Epoch 28/100\n",
            "10/10 [==============================] - 0s 7ms/step - loss: 1.2569 - accuracy: 0.5338 - val_loss: 1.0631 - val_accuracy: 0.5946\n",
            "Epoch 29/100\n",
            "10/10 [==============================] - 0s 8ms/step - loss: 1.1979 - accuracy: 0.5000 - val_loss: 1.0741 - val_accuracy: 0.5811\n",
            "Epoch 30/100\n",
            "10/10 [==============================] - 0s 7ms/step - loss: 1.2182 - accuracy: 0.4966 - val_loss: 0.9927 - val_accuracy: 0.6622\n",
            "Epoch 31/100\n",
            "10/10 [==============================] - 0s 6ms/step - loss: 1.2204 - accuracy: 0.5304 - val_loss: 0.8519 - val_accuracy: 0.7027\n",
            "Epoch 32/100\n",
            "10/10 [==============================] - 0s 6ms/step - loss: 1.2739 - accuracy: 0.5372 - val_loss: 0.8288 - val_accuracy: 0.7027\n",
            "Epoch 33/100\n",
            "10/10 [==============================] - 0s 6ms/step - loss: 1.1810 - accuracy: 0.5338 - val_loss: 0.8872 - val_accuracy: 0.6757\n",
            "Epoch 34/100\n",
            "10/10 [==============================] - 0s 7ms/step - loss: 1.0532 - accuracy: 0.5946 - val_loss: 0.8287 - val_accuracy: 0.7297\n",
            "Epoch 35/100\n",
            "10/10 [==============================] - 0s 7ms/step - loss: 1.0850 - accuracy: 0.5912 - val_loss: 0.7614 - val_accuracy: 0.6757\n",
            "Epoch 36/100\n",
            "10/10 [==============================] - 0s 10ms/step - loss: 1.1555 - accuracy: 0.5777 - val_loss: 0.7662 - val_accuracy: 0.7027\n",
            "Epoch 37/100\n",
            "10/10 [==============================] - 0s 7ms/step - loss: 1.0929 - accuracy: 0.6014 - val_loss: 0.7749 - val_accuracy: 0.6892\n",
            "Epoch 38/100\n",
            "10/10 [==============================] - 0s 7ms/step - loss: 0.9582 - accuracy: 0.6149 - val_loss: 0.7560 - val_accuracy: 0.7027\n",
            "Epoch 39/100\n",
            "10/10 [==============================] - 0s 8ms/step - loss: 0.8591 - accuracy: 0.6791 - val_loss: 0.6825 - val_accuracy: 0.7297\n",
            "Epoch 40/100\n",
            "10/10 [==============================] - 0s 6ms/step - loss: 0.8996 - accuracy: 0.6453 - val_loss: 0.6560 - val_accuracy: 0.7568\n",
            "Epoch 41/100\n",
            "10/10 [==============================] - 0s 7ms/step - loss: 0.8716 - accuracy: 0.6858 - val_loss: 0.5968 - val_accuracy: 0.7703\n",
            "Epoch 42/100\n",
            "10/10 [==============================] - 0s 7ms/step - loss: 0.8643 - accuracy: 0.6689 - val_loss: 0.5647 - val_accuracy: 0.8243\n",
            "Epoch 43/100\n",
            "10/10 [==============================] - 0s 7ms/step - loss: 0.9091 - accuracy: 0.6554 - val_loss: 0.6086 - val_accuracy: 0.7838\n",
            "Epoch 44/100\n",
            "10/10 [==============================] - 0s 7ms/step - loss: 0.7619 - accuracy: 0.7061 - val_loss: 0.5577 - val_accuracy: 0.7973\n",
            "Epoch 45/100\n",
            "10/10 [==============================] - 0s 8ms/step - loss: 0.7426 - accuracy: 0.7568 - val_loss: 0.5279 - val_accuracy: 0.7973\n",
            "Epoch 46/100\n",
            "10/10 [==============================] - 0s 6ms/step - loss: 0.7432 - accuracy: 0.7162 - val_loss: 0.4986 - val_accuracy: 0.8243\n",
            "Epoch 47/100\n",
            "10/10 [==============================] - 0s 7ms/step - loss: 0.6145 - accuracy: 0.7601 - val_loss: 0.5102 - val_accuracy: 0.8378\n",
            "Epoch 48/100\n",
            "10/10 [==============================] - 0s 8ms/step - loss: 0.7090 - accuracy: 0.7703 - val_loss: 0.5187 - val_accuracy: 0.8514\n",
            "Epoch 49/100\n",
            "10/10 [==============================] - 0s 8ms/step - loss: 0.6204 - accuracy: 0.7838 - val_loss: 0.4992 - val_accuracy: 0.8243\n",
            "Epoch 50/100\n",
            "10/10 [==============================] - 0s 8ms/step - loss: 0.6117 - accuracy: 0.7905 - val_loss: 0.5206 - val_accuracy: 0.8108\n",
            "Epoch 51/100\n",
            "10/10 [==============================] - 0s 8ms/step - loss: 0.6570 - accuracy: 0.7601 - val_loss: 0.5494 - val_accuracy: 0.8784\n",
            "Epoch 52/100\n",
            "10/10 [==============================] - 0s 8ms/step - loss: 0.6700 - accuracy: 0.7432 - val_loss: 0.5215 - val_accuracy: 0.8243\n",
            "Epoch 53/100\n",
            "10/10 [==============================] - 0s 7ms/step - loss: 0.6953 - accuracy: 0.7770 - val_loss: 0.5473 - val_accuracy: 0.8649\n",
            "Epoch 54/100\n",
            "10/10 [==============================] - 0s 7ms/step - loss: 0.5546 - accuracy: 0.7939 - val_loss: 0.4852 - val_accuracy: 0.8784\n",
            "Epoch 55/100\n",
            "10/10 [==============================] - 0s 7ms/step - loss: 0.5923 - accuracy: 0.7838 - val_loss: 0.4627 - val_accuracy: 0.8378\n",
            "Epoch 56/100\n",
            "10/10 [==============================] - 0s 7ms/step - loss: 0.5844 - accuracy: 0.8108 - val_loss: 0.4647 - val_accuracy: 0.8514\n",
            "Epoch 57/100\n",
            "10/10 [==============================] - 0s 8ms/step - loss: 0.4634 - accuracy: 0.8209 - val_loss: 0.4642 - val_accuracy: 0.8514\n",
            "Epoch 58/100\n",
            "10/10 [==============================] - 0s 7ms/step - loss: 0.5685 - accuracy: 0.7872 - val_loss: 0.4403 - val_accuracy: 0.8378\n",
            "Epoch 59/100\n",
            "10/10 [==============================] - 0s 8ms/step - loss: 0.4711 - accuracy: 0.8378 - val_loss: 0.4591 - val_accuracy: 0.8649\n",
            "Epoch 60/100\n",
            "10/10 [==============================] - 0s 7ms/step - loss: 0.4689 - accuracy: 0.8345 - val_loss: 0.4229 - val_accuracy: 0.8784\n",
            "Epoch 61/100\n",
            "10/10 [==============================] - 0s 8ms/step - loss: 0.4247 - accuracy: 0.8412 - val_loss: 0.4004 - val_accuracy: 0.8784\n",
            "Epoch 62/100\n",
            "10/10 [==============================] - 0s 8ms/step - loss: 0.4830 - accuracy: 0.8243 - val_loss: 0.3906 - val_accuracy: 0.8649\n",
            "Epoch 63/100\n",
            "10/10 [==============================] - 0s 9ms/step - loss: 0.4799 - accuracy: 0.8243 - val_loss: 0.3984 - val_accuracy: 0.8784\n",
            "Epoch 64/100\n",
            "10/10 [==============================] - 0s 8ms/step - loss: 0.4240 - accuracy: 0.8480 - val_loss: 0.3890 - val_accuracy: 0.8649\n",
            "Epoch 65/100\n",
            "10/10 [==============================] - 0s 8ms/step - loss: 0.4569 - accuracy: 0.8480 - val_loss: 0.3965 - val_accuracy: 0.8919\n",
            "Epoch 66/100\n",
            "10/10 [==============================] - 0s 6ms/step - loss: 0.4295 - accuracy: 0.8615 - val_loss: 0.4195 - val_accuracy: 0.8649\n",
            "Epoch 67/100\n",
            "10/10 [==============================] - 0s 7ms/step - loss: 0.4047 - accuracy: 0.8412 - val_loss: 0.3875 - val_accuracy: 0.8649\n",
            "Epoch 68/100\n",
            "10/10 [==============================] - 0s 8ms/step - loss: 0.3734 - accuracy: 0.8581 - val_loss: 0.3823 - val_accuracy: 0.8649\n",
            "Epoch 69/100\n",
            "10/10 [==============================] - 0s 9ms/step - loss: 0.3077 - accuracy: 0.9020 - val_loss: 0.3769 - val_accuracy: 0.8514\n",
            "Epoch 70/100\n",
            "10/10 [==============================] - 0s 8ms/step - loss: 0.3753 - accuracy: 0.8953 - val_loss: 0.3780 - val_accuracy: 0.8514\n",
            "Epoch 71/100\n",
            "10/10 [==============================] - 0s 6ms/step - loss: 0.3090 - accuracy: 0.8953 - val_loss: 0.3652 - val_accuracy: 0.8514\n",
            "Epoch 72/100\n",
            "10/10 [==============================] - 0s 7ms/step - loss: 0.3181 - accuracy: 0.8682 - val_loss: 0.3539 - val_accuracy: 0.8919\n",
            "Epoch 73/100\n",
            "10/10 [==============================] - 0s 8ms/step - loss: 0.3765 - accuracy: 0.8716 - val_loss: 0.3810 - val_accuracy: 0.8649\n",
            "Epoch 74/100\n",
            "10/10 [==============================] - 0s 8ms/step - loss: 0.3977 - accuracy: 0.8547 - val_loss: 0.3920 - val_accuracy: 0.8919\n",
            "Epoch 75/100\n",
            "10/10 [==============================] - 0s 7ms/step - loss: 0.3309 - accuracy: 0.8784 - val_loss: 0.3491 - val_accuracy: 0.8919\n",
            "Epoch 76/100\n",
            "10/10 [==============================] - 0s 6ms/step - loss: 0.3003 - accuracy: 0.8750 - val_loss: 0.3669 - val_accuracy: 0.8784\n",
            "Epoch 77/100\n",
            "10/10 [==============================] - 0s 8ms/step - loss: 0.2436 - accuracy: 0.9054 - val_loss: 0.3535 - val_accuracy: 0.8649\n",
            "Epoch 78/100\n",
            "10/10 [==============================] - 0s 7ms/step - loss: 0.2532 - accuracy: 0.8919 - val_loss: 0.3634 - val_accuracy: 0.8784\n",
            "Epoch 79/100\n",
            "10/10 [==============================] - 0s 8ms/step - loss: 0.2320 - accuracy: 0.9189 - val_loss: 0.3487 - val_accuracy: 0.8784\n",
            "Epoch 80/100\n",
            "10/10 [==============================] - 0s 7ms/step - loss: 0.2742 - accuracy: 0.9020 - val_loss: 0.3431 - val_accuracy: 0.9054\n",
            "Epoch 81/100\n",
            "10/10 [==============================] - 0s 7ms/step - loss: 0.2629 - accuracy: 0.9189 - val_loss: 0.3565 - val_accuracy: 0.9054\n",
            "Epoch 82/100\n",
            "10/10 [==============================] - 0s 7ms/step - loss: 0.1910 - accuracy: 0.9324 - val_loss: 0.3294 - val_accuracy: 0.8919\n",
            "Epoch 83/100\n",
            "10/10 [==============================] - 0s 6ms/step - loss: 0.2417 - accuracy: 0.9122 - val_loss: 0.3218 - val_accuracy: 0.9189\n",
            "Epoch 84/100\n",
            "10/10 [==============================] - 0s 8ms/step - loss: 0.2244 - accuracy: 0.9291 - val_loss: 0.3340 - val_accuracy: 0.8919\n",
            "Epoch 85/100\n",
            "10/10 [==============================] - 0s 7ms/step - loss: 0.1719 - accuracy: 0.9392 - val_loss: 0.3258 - val_accuracy: 0.8919\n",
            "Epoch 86/100\n",
            "10/10 [==============================] - 0s 6ms/step - loss: 0.1903 - accuracy: 0.9223 - val_loss: 0.3170 - val_accuracy: 0.8919\n",
            "Epoch 87/100\n",
            "10/10 [==============================] - 0s 6ms/step - loss: 0.1776 - accuracy: 0.9459 - val_loss: 0.3114 - val_accuracy: 0.9054\n",
            "Epoch 88/100\n",
            "10/10 [==============================] - 0s 9ms/step - loss: 0.2431 - accuracy: 0.9122 - val_loss: 0.3260 - val_accuracy: 0.9189\n",
            "Epoch 89/100\n",
            "10/10 [==============================] - 0s 7ms/step - loss: 0.2253 - accuracy: 0.9358 - val_loss: 0.2958 - val_accuracy: 0.9054\n",
            "Epoch 90/100\n",
            "10/10 [==============================] - 0s 7ms/step - loss: 0.2369 - accuracy: 0.9223 - val_loss: 0.3237 - val_accuracy: 0.8919\n",
            "Epoch 91/100\n",
            "10/10 [==============================] - 0s 8ms/step - loss: 0.1956 - accuracy: 0.9358 - val_loss: 0.3503 - val_accuracy: 0.8919\n",
            "Epoch 92/100\n",
            "10/10 [==============================] - 0s 8ms/step - loss: 0.2026 - accuracy: 0.9291 - val_loss: 0.3286 - val_accuracy: 0.8919\n",
            "Epoch 93/100\n",
            "10/10 [==============================] - 0s 6ms/step - loss: 0.1602 - accuracy: 0.9527 - val_loss: 0.3046 - val_accuracy: 0.9054\n",
            "Epoch 94/100\n",
            "10/10 [==============================] - 0s 7ms/step - loss: 0.1673 - accuracy: 0.9392 - val_loss: 0.3058 - val_accuracy: 0.9054\n",
            "Epoch 95/100\n",
            "10/10 [==============================] - 0s 7ms/step - loss: 0.1333 - accuracy: 0.9527 - val_loss: 0.3004 - val_accuracy: 0.9054\n",
            "Epoch 96/100\n",
            "10/10 [==============================] - 0s 6ms/step - loss: 0.2153 - accuracy: 0.9392 - val_loss: 0.3068 - val_accuracy: 0.9189\n",
            "Epoch 97/100\n",
            "10/10 [==============================] - 0s 8ms/step - loss: 0.2414 - accuracy: 0.9257 - val_loss: 0.2924 - val_accuracy: 0.8919\n",
            "Epoch 98/100\n",
            "10/10 [==============================] - 0s 7ms/step - loss: 0.1866 - accuracy: 0.9392 - val_loss: 0.3104 - val_accuracy: 0.8919\n",
            "Epoch 99/100\n",
            "10/10 [==============================] - 0s 8ms/step - loss: 0.1639 - accuracy: 0.9392 - val_loss: 0.3062 - val_accuracy: 0.9324\n",
            "Epoch 100/100\n",
            "10/10 [==============================] - 0s 11ms/step - loss: 0.2055 - accuracy: 0.9358 - val_loss: 0.2653 - val_accuracy: 0.9324\n"
          ]
        },
        {
          "output_type": "execute_result",
          "data": {
            "text/plain": [
              "<keras.callbacks.History at 0x7f75c01521a0>"
            ]
          },
          "metadata": {},
          "execution_count": 32
        }
      ]
    },
    {
      "cell_type": "code",
      "execution_count": null,
      "id": "virgin-butter",
      "metadata": {
        "id": "virgin-butter",
        "outputId": "f7ac2aa9-65cf-4a9a-a656-ea399fe58115",
        "colab": {
          "base_uri": "https://localhost:8080/"
        }
      },
      "outputs": [
        {
          "output_type": "stream",
          "name": "stdout",
          "text": [
            "0.9324324131011963\n"
          ]
        }
      ],
      "source": [
        "test_accuracy=model.evaluate(X_test,y_test,verbose=0)\n",
        "print(test_accuracy[1])"
      ]
    },
    {
      "cell_type": "markdown",
      "source": [
        "### Making prediction and converting probability distribution into OneHot encoded vector"
      ],
      "metadata": {
        "id": "fr_81oeIcFeD"
      },
      "id": "fr_81oeIcFeD"
    },
    {
      "cell_type": "code",
      "source": [
        "y_pred_ann = model.predict(X_test)\n",
        "\n",
        "predictions_ann = []\n",
        "\n",
        "for row in y_pred_ann:\n",
        "  label = np.zeros(7)\n",
        "  label[np.argmax(row)] = 1\n",
        "  label.reshape(1, -1)\n",
        "  predictions_ann.append(label.tolist())\n",
        "  label = None"
      ],
      "metadata": {
        "colab": {
          "base_uri": "https://localhost:8080/"
        },
        "id": "SOp2i3AKwID3",
        "outputId": "143977b6-67e9-48cd-ff88-6f249fde42fd"
      },
      "id": "SOp2i3AKwID3",
      "execution_count": null,
      "outputs": [
        {
          "output_type": "stream",
          "name": "stdout",
          "text": [
            "3/3 [==============================] - 0s 3ms/step\n"
          ]
        }
      ]
    },
    {
      "cell_type": "code",
      "source": [
        "y_test_for_eval = encoder.inverse_transform(y_test)\n",
        "predictions_ann = encoder.inverse_transform(predictions_ann)"
      ],
      "metadata": {
        "id": "wK0avb0YxhUH"
      },
      "id": "wK0avb0YxhUH",
      "execution_count": null,
      "outputs": []
    },
    {
      "cell_type": "code",
      "source": [
        "print(predictions_ann)"
      ],
      "metadata": {
        "collapsed": true,
        "colab": {
          "base_uri": "https://localhost:8080/"
        },
        "id": "S3rnlBM7zbXg",
        "outputId": "36aa11e6-0628-4ed0-b31f-0ab6ea62eb8f"
      },
      "id": "S3rnlBM7zbXg",
      "execution_count": null,
      "outputs": [
        {
          "output_type": "stream",
          "name": "stdout",
          "text": [
            "[['barishal']\n",
            " ['noakhali']\n",
            " ['puran dhaka']\n",
            " ['barishal']\n",
            " ['puran dhaka']\n",
            " ['noakhali']\n",
            " ['barishal']\n",
            " ['noakhali']\n",
            " ['barishal']\n",
            " ['puran dhaka']\n",
            " ['chottogram']\n",
            " ['barishal']\n",
            " ['puran dhaka']\n",
            " ['puran dhaka']\n",
            " ['noakhali']\n",
            " ['noakhali']\n",
            " ['maymenshing']\n",
            " ['noakhali']\n",
            " ['puran dhaka']\n",
            " ['barishal']\n",
            " ['maymenshing']\n",
            " ['puran dhaka']\n",
            " ['puran dhaka']\n",
            " ['sylhet']\n",
            " ['noakhali']\n",
            " ['noakhali']\n",
            " ['puran dhaka']\n",
            " ['chottogram']\n",
            " ['shatkhira']\n",
            " ['barishal']\n",
            " ['barishal']\n",
            " ['noakhali']\n",
            " ['noakhali']\n",
            " ['puran dhaka']\n",
            " ['puran dhaka']\n",
            " ['barishal']\n",
            " ['barishal']\n",
            " ['noakhali']\n",
            " ['puran dhaka']\n",
            " ['noakhali']\n",
            " ['barishal']\n",
            " ['barishal']\n",
            " ['noakhali']\n",
            " ['barishal']\n",
            " ['noakhali']\n",
            " ['puran dhaka']\n",
            " ['noakhali']\n",
            " ['shatkhira']\n",
            " ['barishal']\n",
            " ['noakhali']\n",
            " ['chottogram']\n",
            " ['noakhali']\n",
            " ['shatkhira']\n",
            " ['puran dhaka']\n",
            " ['maymenshing']\n",
            " ['shatkhira']\n",
            " ['barishal']\n",
            " ['noakhali']\n",
            " ['barishal']\n",
            " ['barishal']\n",
            " ['barishal']\n",
            " ['chottogram']\n",
            " ['chottogram']\n",
            " ['puran dhaka']\n",
            " ['puran dhaka']\n",
            " ['puran dhaka']\n",
            " ['noakhali']\n",
            " ['barishal']\n",
            " ['shatkhira']\n",
            " ['noakhali']\n",
            " ['maymenshing']\n",
            " ['puran dhaka']\n",
            " ['noakhali']\n",
            " ['noakhali']]\n"
          ]
        }
      ]
    },
    {
      "cell_type": "markdown",
      "source": [
        "### Finding Evaluation parameters"
      ],
      "metadata": {
        "id": "dpPPa2V6ch_d"
      },
      "id": "dpPPa2V6ch_d"
    },
    {
      "cell_type": "code",
      "source": [
        "from sklearn.metrics import accuracy_score, classification_report, precision_score, recall_score, f1_score, confusion_matrix, ConfusionMatrixDisplay"
      ],
      "metadata": {
        "id": "Hr-chL-0o87s"
      },
      "id": "Hr-chL-0o87s",
      "execution_count": null,
      "outputs": []
    },
    {
      "cell_type": "code",
      "source": [
        "print('Accuracy score : ', accuracy_score(y_test_for_eval, predictions_ann))\n",
        "print('Precision score: ', precision_score(y_test_for_eval, predictions_ann, average='weighted'))\n",
        "print('Recall score   : ', recall_score(y_test_for_eval, predictions_ann, average='weighted'))\n",
        "print('F1 Score       : ', f1_score(y_test_for_eval, predictions_ann, average='weighted'))"
      ],
      "metadata": {
        "colab": {
          "base_uri": "https://localhost:8080/"
        },
        "id": "zOLQdD7CyEHm",
        "outputId": "abc455e9-ea8e-483d-993d-07baa7e78918"
      },
      "id": "zOLQdD7CyEHm",
      "execution_count": null,
      "outputs": [
        {
          "output_type": "stream",
          "name": "stdout",
          "text": [
            "Accuracy score :  0.9324324324324325\n",
            "Precision score:  0.9336034599192494\n",
            "Recall score   :  0.9324324324324325\n",
            "F1 Score       :  0.932059800664452\n"
          ]
        }
      ]
    },
    {
      "cell_type": "code",
      "source": [
        "print(classification_report(y_test_for_eval, predictions_ann))"
      ],
      "metadata": {
        "colab": {
          "base_uri": "https://localhost:8080/"
        },
        "id": "gGok3Zply_14",
        "outputId": "fc0287bb-9127-4107-e737-e430930a936d"
      },
      "id": "gGok3Zply_14",
      "execution_count": null,
      "outputs": [
        {
          "output_type": "stream",
          "name": "stdout",
          "text": [
            "              precision    recall  f1-score   support\n",
            "\n",
            "    barishal       0.95      0.86      0.90        21\n",
            "  chottogram       1.00      1.00      1.00         5\n",
            " maymenshing       1.00      1.00      1.00         4\n",
            "    noakhali       0.86      0.90      0.88        21\n",
            " puran dhaka       0.94      1.00      0.97        17\n",
            "   shatkhira       1.00      1.00      1.00         5\n",
            "      sylhet       1.00      1.00      1.00         1\n",
            "\n",
            "    accuracy                           0.93        74\n",
            "   macro avg       0.97      0.97      0.97        74\n",
            "weighted avg       0.93      0.93      0.93        74\n",
            "\n"
          ]
        }
      ]
    },
    {
      "cell_type": "code",
      "source": [
        "cm = confusion_matrix(y_test_for_eval, predictions_ann, labels=metadata['accent'].unique())\n",
        "disp = ConfusionMatrixDisplay(confusion_matrix=cm, display_labels=metadata['accent'].unique())\n",
        "fig, ax = plt.subplots(figsize=(15,8))\n",
        "disp.plot(ax=ax)\n",
        "plt.show()"
      ],
      "metadata": {
        "colab": {
          "base_uri": "https://localhost:8080/",
          "height": 696
        },
        "id": "OO9L4pX9txZN",
        "outputId": "c9f03bbc-3894-4d62-f634-3209c6e303da"
      },
      "id": "OO9L4pX9txZN",
      "execution_count": null,
      "outputs": [
        {
          "output_type": "display_data",
          "data": {
            "text/plain": [
              "<Figure size 1500x800 with 2 Axes>"
            ],
            "image/png": "[encoded data removed]"
          },
          "metadata": {}
        }
      ]
    },
    {
      "cell_type": "markdown",
      "source": [
        "## Building LSTM model"
      ],
      "metadata": {
        "id": "ptk3qmn0zlEX"
      },
      "id": "ptk3qmn0zlEX"
    },
    {
      "cell_type": "code",
      "source": [
        "from tensorflow.keras.layers import LSTM"
      ],
      "metadata": {
        "id": "Scbe3jvv0GcO"
      },
      "id": "Scbe3jvv0GcO",
      "execution_count": null,
      "outputs": []
    },
    {
      "cell_type": "code",
      "source": [
        "model = tf.keras.Sequential()\n",
        "# first layer after input layer\n",
        "model.add(LSTM(100,input_shape=(40,1)))\n",
        "model.add(Dropout(0.2))\n",
        "# second layer\n",
        "model.add(Dense(100, activation='relu'))\n",
        "# third layer\n",
        "model.add(Dense(64, activation='relu'))\n",
        "model.add(Dropout(0.2))\n",
        "# forth layer\n",
        "model.add(Dense(48, activation='relu'))\n",
        "model.add(Dropout(0.2))\n",
        "# output layer\n",
        "model.add(Dense(7, activation='softmax'))\n",
        "model.summary()"
      ],
      "metadata": {
        "colab": {
          "base_uri": "https://localhost:8080/"
        },
        "id": "Nt3ag3OFzoQn",
        "outputId": "0ff727d6-3289-4cd0-c811-fb85add348ea"
      },
      "id": "Nt3ag3OFzoQn",
      "execution_count": null,
      "outputs": [
        {
          "output_type": "stream",
          "name": "stdout",
          "text": [
            "Model: \"sequential_1\"\n",
            "_________________________________________________________________\n",
            " Layer (type)                Output Shape              Param #   \n",
            "=================================================================\n",
            " lstm (LSTM)                 (None, 100)               40800     \n",
            "                                                                 \n",
            " dropout_3 (Dropout)         (None, 100)               0         \n",
            "                                                                 \n",
            " dense_4 (Dense)             (None, 100)               10100     \n",
            "                                                                 \n",
            " dense_5 (Dense)             (None, 64)                6464      \n",
            "                                                                 \n",
            " dropout_4 (Dropout)         (None, 64)                0         \n",
            "                                                                 \n",
            " dense_6 (Dense)             (None, 48)                3120      \n",
            "                                                                 \n",
            " dropout_5 (Dropout)         (None, 48)                0         \n",
            "                                                                 \n",
            " dense_7 (Dense)             (None, 7)                 343       \n",
            "                                                                 \n",
            "=================================================================\n",
            "Total params: 60,827\n",
            "Trainable params: 60,827\n",
            "Non-trainable params: 0\n",
            "_________________________________________________________________\n"
          ]
        }
      ]
    },
    {
      "cell_type": "code",
      "source": [
        "model.compile(optimizer='adam',loss='categorical_crossentropy',metrics=['acc'])"
      ],
      "metadata": {
        "id": "_IfdC1fF0gZp"
      },
      "id": "_IfdC1fF0gZp",
      "execution_count": null,
      "outputs": []
    },
    {
      "cell_type": "code",
      "source": [
        "model.fit(X_train, y_train, epochs=100, validation_data=(X_test, y_test))"
      ],
      "metadata": {
        "colab": {
          "base_uri": "https://localhost:8080/"
        },
        "collapsed": true,
        "id": "bq1FdTFj0kz-",
        "outputId": "b0570950-9c1e-4abb-c7a3-6291edd18ff7"
      },
      "id": "bq1FdTFj0kz-",
      "execution_count": null,
      "outputs": [
        {
          "output_type": "stream",
          "name": "stdout",
          "text": [
            "Epoch 1/100\n",
            "10/10 [==============================] - 5s 60ms/step - loss: 1.8821 - acc: 0.1926 - val_loss: 1.8110 - val_acc: 0.3378\n",
            "Epoch 2/100\n",
            "10/10 [==============================] - 0s 11ms/step - loss: 1.7473 - acc: 0.3041 - val_loss: 1.6955 - val_acc: 0.3514\n",
            "Epoch 3/100\n",
            "10/10 [==============================] - 0s 11ms/step - loss: 1.6772 - acc: 0.2939 - val_loss: 1.5719 - val_acc: 0.3649\n",
            "Epoch 4/100\n",
            "10/10 [==============================] - 0s 10ms/step - loss: 1.5245 - acc: 0.3345 - val_loss: 1.4236 - val_acc: 0.3649\n",
            "Epoch 5/100\n",
            "10/10 [==============================] - 0s 12ms/step - loss: 1.4536 - acc: 0.3378 - val_loss: 1.3793 - val_acc: 0.3649\n",
            "Epoch 6/100\n",
            "10/10 [==============================] - 0s 11ms/step - loss: 1.3678 - acc: 0.3581 - val_loss: 1.3069 - val_acc: 0.3378\n",
            "Epoch 7/100\n",
            "10/10 [==============================] - 0s 11ms/step - loss: 1.2834 - acc: 0.4223 - val_loss: 1.2625 - val_acc: 0.4459\n",
            "Epoch 8/100\n",
            "10/10 [==============================] - 0s 12ms/step - loss: 1.2434 - acc: 0.4628 - val_loss: 1.2429 - val_acc: 0.4459\n",
            "Epoch 9/100\n",
            "10/10 [==============================] - 0s 11ms/step - loss: 1.2071 - acc: 0.4899 - val_loss: 1.2794 - val_acc: 0.4459\n",
            "Epoch 10/100\n",
            "10/10 [==============================] - 0s 11ms/step - loss: 1.2171 - acc: 0.5000 - val_loss: 1.2119 - val_acc: 0.5135\n",
            "Epoch 11/100\n",
            "10/10 [==============================] - 0s 11ms/step - loss: 1.1475 - acc: 0.5338 - val_loss: 1.1545 - val_acc: 0.5000\n",
            "Epoch 12/100\n",
            "10/10 [==============================] - 0s 11ms/step - loss: 1.1803 - acc: 0.5236 - val_loss: 1.1212 - val_acc: 0.4730\n",
            "Epoch 13/100\n",
            "10/10 [==============================] - 0s 10ms/step - loss: 1.1034 - acc: 0.5338 - val_loss: 1.2794 - val_acc: 0.4595\n",
            "Epoch 14/100\n",
            "10/10 [==============================] - 0s 11ms/step - loss: 1.1543 - acc: 0.5270 - val_loss: 1.0794 - val_acc: 0.5541\n",
            "Epoch 15/100\n",
            "10/10 [==============================] - 0s 12ms/step - loss: 1.0977 - acc: 0.5541 - val_loss: 1.1956 - val_acc: 0.4459\n",
            "Epoch 16/100\n",
            "10/10 [==============================] - 0s 15ms/step - loss: 1.0359 - acc: 0.5777 - val_loss: 1.1773 - val_acc: 0.4459\n",
            "Epoch 17/100\n",
            "10/10 [==============================] - 0s 15ms/step - loss: 1.0226 - acc: 0.5980 - val_loss: 1.0921 - val_acc: 0.5000\n",
            "Epoch 18/100\n",
            "10/10 [==============================] - 0s 15ms/step - loss: 0.9459 - acc: 0.6351 - val_loss: 1.0668 - val_acc: 0.5405\n",
            "Epoch 19/100\n",
            "10/10 [==============================] - 0s 15ms/step - loss: 0.9559 - acc: 0.5845 - val_loss: 0.9278 - val_acc: 0.6081\n",
            "Epoch 20/100\n",
            "10/10 [==============================] - 0s 14ms/step - loss: 0.9276 - acc: 0.6014 - val_loss: 1.0542 - val_acc: 0.5946\n",
            "Epoch 21/100\n",
            "10/10 [==============================] - 0s 15ms/step - loss: 0.9130 - acc: 0.6284 - val_loss: 0.9039 - val_acc: 0.5946\n",
            "Epoch 22/100\n",
            "10/10 [==============================] - 0s 14ms/step - loss: 0.8891 - acc: 0.6588 - val_loss: 0.9167 - val_acc: 0.5676\n",
            "Epoch 23/100\n",
            "10/10 [==============================] - 0s 13ms/step - loss: 0.7967 - acc: 0.6689 - val_loss: 0.9093 - val_acc: 0.5676\n",
            "Epoch 24/100\n",
            "10/10 [==============================] - 0s 14ms/step - loss: 0.7826 - acc: 0.6622 - val_loss: 1.0006 - val_acc: 0.5811\n",
            "Epoch 25/100\n",
            "10/10 [==============================] - 0s 19ms/step - loss: 0.8109 - acc: 0.6622 - val_loss: 0.9922 - val_acc: 0.5405\n",
            "Epoch 26/100\n",
            "10/10 [==============================] - 0s 15ms/step - loss: 0.8297 - acc: 0.6622 - val_loss: 0.7684 - val_acc: 0.5946\n",
            "Epoch 27/100\n",
            "10/10 [==============================] - 0s 14ms/step - loss: 0.7102 - acc: 0.6993 - val_loss: 0.8730 - val_acc: 0.6216\n",
            "Epoch 28/100\n",
            "10/10 [==============================] - 0s 15ms/step - loss: 0.7294 - acc: 0.6892 - val_loss: 0.9078 - val_acc: 0.5811\n",
            "Epoch 29/100\n",
            "10/10 [==============================] - 0s 14ms/step - loss: 0.7905 - acc: 0.6757 - val_loss: 0.9463 - val_acc: 0.5676\n",
            "Epoch 30/100\n",
            "10/10 [==============================] - 0s 15ms/step - loss: 0.7283 - acc: 0.7095 - val_loss: 0.8503 - val_acc: 0.6081\n",
            "Epoch 31/100\n",
            "10/10 [==============================] - 0s 16ms/step - loss: 0.6623 - acc: 0.7196 - val_loss: 0.9742 - val_acc: 0.6351\n",
            "Epoch 32/100\n",
            "10/10 [==============================] - 0s 16ms/step - loss: 0.6220 - acc: 0.7399 - val_loss: 0.8506 - val_acc: 0.6351\n",
            "Epoch 33/100\n",
            "10/10 [==============================] - 0s 14ms/step - loss: 0.7241 - acc: 0.7061 - val_loss: 1.0928 - val_acc: 0.5946\n",
            "Epoch 34/100\n",
            "10/10 [==============================] - 0s 14ms/step - loss: 0.8473 - acc: 0.6622 - val_loss: 0.9677 - val_acc: 0.5946\n",
            "Epoch 35/100\n",
            "10/10 [==============================] - 0s 13ms/step - loss: 0.7772 - acc: 0.6892 - val_loss: 0.8604 - val_acc: 0.6081\n",
            "Epoch 36/100\n",
            "10/10 [==============================] - 0s 13ms/step - loss: 0.6507 - acc: 0.7399 - val_loss: 0.8219 - val_acc: 0.6081\n",
            "Epoch 37/100\n",
            "10/10 [==============================] - 0s 14ms/step - loss: 0.6262 - acc: 0.7635 - val_loss: 1.0454 - val_acc: 0.6486\n",
            "Epoch 38/100\n",
            "10/10 [==============================] - 0s 15ms/step - loss: 0.6729 - acc: 0.7196 - val_loss: 0.7940 - val_acc: 0.6486\n",
            "Epoch 39/100\n",
            "10/10 [==============================] - 0s 14ms/step - loss: 0.6213 - acc: 0.7601 - val_loss: 0.9254 - val_acc: 0.6351\n",
            "Epoch 40/100\n",
            "10/10 [==============================] - 0s 14ms/step - loss: 0.6458 - acc: 0.7432 - val_loss: 0.9141 - val_acc: 0.6486\n",
            "Epoch 41/100\n",
            "10/10 [==============================] - 0s 14ms/step - loss: 0.5894 - acc: 0.7297 - val_loss: 0.8428 - val_acc: 0.6351\n",
            "Epoch 42/100\n",
            "10/10 [==============================] - 0s 13ms/step - loss: 0.5671 - acc: 0.7601 - val_loss: 0.8918 - val_acc: 0.6622\n",
            "Epoch 43/100\n",
            "10/10 [==============================] - 0s 14ms/step - loss: 0.5078 - acc: 0.8041 - val_loss: 0.9029 - val_acc: 0.6216\n",
            "Epoch 44/100\n",
            "10/10 [==============================] - 0s 14ms/step - loss: 0.5724 - acc: 0.7534 - val_loss: 0.8938 - val_acc: 0.6486\n",
            "Epoch 45/100\n",
            "10/10 [==============================] - 0s 14ms/step - loss: 0.5379 - acc: 0.7872 - val_loss: 0.9075 - val_acc: 0.6486\n",
            "Epoch 46/100\n",
            "10/10 [==============================] - 0s 12ms/step - loss: 0.4518 - acc: 0.8142 - val_loss: 0.8846 - val_acc: 0.6757\n",
            "Epoch 47/100\n",
            "10/10 [==============================] - 0s 12ms/step - loss: 0.5454 - acc: 0.7872 - val_loss: 0.9404 - val_acc: 0.6622\n",
            "Epoch 48/100\n",
            "10/10 [==============================] - 0s 13ms/step - loss: 0.4792 - acc: 0.8074 - val_loss: 0.9175 - val_acc: 0.6757\n",
            "Epoch 49/100\n",
            "10/10 [==============================] - 0s 11ms/step - loss: 0.4471 - acc: 0.8176 - val_loss: 0.9181 - val_acc: 0.6892\n",
            "Epoch 50/100\n",
            "10/10 [==============================] - 0s 10ms/step - loss: 0.4915 - acc: 0.8142 - val_loss: 0.9937 - val_acc: 0.6486\n",
            "Epoch 51/100\n",
            "10/10 [==============================] - 0s 10ms/step - loss: 0.4988 - acc: 0.8041 - val_loss: 0.8321 - val_acc: 0.6486\n",
            "Epoch 52/100\n",
            "10/10 [==============================] - 0s 10ms/step - loss: 0.4193 - acc: 0.8311 - val_loss: 1.0162 - val_acc: 0.6216\n",
            "Epoch 53/100\n",
            "10/10 [==============================] - 0s 10ms/step - loss: 0.4858 - acc: 0.7973 - val_loss: 0.9929 - val_acc: 0.6757\n",
            "Epoch 54/100\n",
            "10/10 [==============================] - 0s 11ms/step - loss: 0.4607 - acc: 0.8243 - val_loss: 1.0543 - val_acc: 0.6757\n",
            "Epoch 55/100\n",
            "10/10 [==============================] - 0s 10ms/step - loss: 0.5251 - acc: 0.7973 - val_loss: 1.0018 - val_acc: 0.6757\n",
            "Epoch 56/100\n",
            "10/10 [==============================] - 0s 11ms/step - loss: 0.5434 - acc: 0.8176 - val_loss: 0.9909 - val_acc: 0.6486\n",
            "Epoch 57/100\n",
            "10/10 [==============================] - 0s 10ms/step - loss: 0.6703 - acc: 0.7568 - val_loss: 1.0439 - val_acc: 0.5676\n",
            "Epoch 58/100\n",
            "10/10 [==============================] - 0s 10ms/step - loss: 0.5141 - acc: 0.8142 - val_loss: 0.8718 - val_acc: 0.6351\n",
            "Epoch 59/100\n",
            "10/10 [==============================] - 0s 10ms/step - loss: 0.4941 - acc: 0.7804 - val_loss: 0.9160 - val_acc: 0.6351\n",
            "Epoch 60/100\n",
            "10/10 [==============================] - 0s 11ms/step - loss: 0.4385 - acc: 0.8243 - val_loss: 0.9270 - val_acc: 0.6622\n",
            "Epoch 61/100\n",
            "10/10 [==============================] - 0s 11ms/step - loss: 0.4068 - acc: 0.8446 - val_loss: 0.9666 - val_acc: 0.6622\n",
            "Epoch 62/100\n",
            "10/10 [==============================] - 0s 10ms/step - loss: 0.3681 - acc: 0.8581 - val_loss: 0.9788 - val_acc: 0.6622\n",
            "Epoch 63/100\n",
            "10/10 [==============================] - 0s 11ms/step - loss: 0.3596 - acc: 0.8547 - val_loss: 1.0103 - val_acc: 0.6486\n",
            "Epoch 64/100\n",
            "10/10 [==============================] - 0s 10ms/step - loss: 0.5337 - acc: 0.8074 - val_loss: 1.1282 - val_acc: 0.6351\n",
            "Epoch 65/100\n",
            "10/10 [==============================] - 0s 11ms/step - loss: 0.4221 - acc: 0.8311 - val_loss: 1.1345 - val_acc: 0.6081\n",
            "Epoch 66/100\n",
            "10/10 [==============================] - 0s 11ms/step - loss: 0.5362 - acc: 0.8176 - val_loss: 0.9273 - val_acc: 0.6757\n",
            "Epoch 67/100\n",
            "10/10 [==============================] - 0s 12ms/step - loss: 0.4503 - acc: 0.8277 - val_loss: 0.9893 - val_acc: 0.6622\n",
            "Epoch 68/100\n",
            "10/10 [==============================] - 0s 11ms/step - loss: 0.4526 - acc: 0.8412 - val_loss: 1.0672 - val_acc: 0.6622\n",
            "Epoch 69/100\n",
            "10/10 [==============================] - 0s 12ms/step - loss: 0.3518 - acc: 0.8682 - val_loss: 1.0279 - val_acc: 0.6622\n",
            "Epoch 70/100\n",
            "10/10 [==============================] - 0s 12ms/step - loss: 0.3341 - acc: 0.8345 - val_loss: 1.0103 - val_acc: 0.6892\n",
            "Epoch 71/100\n",
            "10/10 [==============================] - 0s 10ms/step - loss: 0.3532 - acc: 0.8615 - val_loss: 1.1792 - val_acc: 0.6892\n",
            "Epoch 72/100\n",
            "10/10 [==============================] - 0s 11ms/step - loss: 0.3289 - acc: 0.8851 - val_loss: 0.9831 - val_acc: 0.7162\n",
            "Epoch 73/100\n",
            "10/10 [==============================] - 0s 12ms/step - loss: 0.3272 - acc: 0.8716 - val_loss: 1.0274 - val_acc: 0.6622\n",
            "Epoch 74/100\n",
            "10/10 [==============================] - 0s 11ms/step - loss: 0.3058 - acc: 0.8716 - val_loss: 1.0454 - val_acc: 0.6757\n",
            "Epoch 75/100\n",
            "10/10 [==============================] - 0s 12ms/step - loss: 0.3073 - acc: 0.9020 - val_loss: 1.1182 - val_acc: 0.6351\n",
            "Epoch 76/100\n",
            "10/10 [==============================] - 0s 11ms/step - loss: 0.2978 - acc: 0.8986 - val_loss: 1.1466 - val_acc: 0.6486\n",
            "Epoch 77/100\n",
            "10/10 [==============================] - 0s 10ms/step - loss: 0.3041 - acc: 0.8750 - val_loss: 1.0777 - val_acc: 0.6892\n",
            "Epoch 78/100\n",
            "10/10 [==============================] - 0s 10ms/step - loss: 0.2790 - acc: 0.8953 - val_loss: 1.0534 - val_acc: 0.6757\n",
            "Epoch 79/100\n",
            "10/10 [==============================] - 0s 11ms/step - loss: 0.3009 - acc: 0.9020 - val_loss: 1.0944 - val_acc: 0.7162\n",
            "Epoch 80/100\n",
            "10/10 [==============================] - 0s 11ms/step - loss: 0.2641 - acc: 0.9054 - val_loss: 1.1966 - val_acc: 0.7027\n",
            "Epoch 81/100\n",
            "10/10 [==============================] - 0s 12ms/step - loss: 0.2726 - acc: 0.9020 - val_loss: 1.1058 - val_acc: 0.6892\n",
            "Epoch 82/100\n",
            "10/10 [==============================] - 0s 12ms/step - loss: 0.2271 - acc: 0.9088 - val_loss: 1.1102 - val_acc: 0.7027\n",
            "Epoch 83/100\n",
            "10/10 [==============================] - 0s 11ms/step - loss: 0.3093 - acc: 0.8919 - val_loss: 1.2291 - val_acc: 0.7027\n",
            "Epoch 84/100\n",
            "10/10 [==============================] - 0s 10ms/step - loss: 0.2836 - acc: 0.8919 - val_loss: 1.2525 - val_acc: 0.6622\n",
            "Epoch 85/100\n",
            "10/10 [==============================] - 0s 10ms/step - loss: 0.2388 - acc: 0.9189 - val_loss: 1.2852 - val_acc: 0.6892\n",
            "Epoch 86/100\n",
            "10/10 [==============================] - 0s 10ms/step - loss: 0.2526 - acc: 0.8818 - val_loss: 1.0974 - val_acc: 0.7027\n",
            "Epoch 87/100\n",
            "10/10 [==============================] - 0s 12ms/step - loss: 0.2765 - acc: 0.8953 - val_loss: 1.3852 - val_acc: 0.6757\n",
            "Epoch 88/100\n",
            "10/10 [==============================] - 0s 11ms/step - loss: 0.3202 - acc: 0.8885 - val_loss: 1.2532 - val_acc: 0.7027\n",
            "Epoch 89/100\n",
            "10/10 [==============================] - 0s 11ms/step - loss: 0.3032 - acc: 0.9054 - val_loss: 1.4293 - val_acc: 0.6757\n",
            "Epoch 90/100\n",
            "10/10 [==============================] - 0s 11ms/step - loss: 0.3250 - acc: 0.8649 - val_loss: 1.2419 - val_acc: 0.6757\n",
            "Epoch 91/100\n",
            "10/10 [==============================] - 0s 10ms/step - loss: 0.2408 - acc: 0.9088 - val_loss: 1.2439 - val_acc: 0.7162\n",
            "Epoch 92/100\n",
            "10/10 [==============================] - 0s 12ms/step - loss: 0.2554 - acc: 0.9088 - val_loss: 1.2263 - val_acc: 0.7027\n",
            "Epoch 93/100\n",
            "10/10 [==============================] - 0s 11ms/step - loss: 0.2303 - acc: 0.9088 - val_loss: 1.1827 - val_acc: 0.6892\n",
            "Epoch 94/100\n",
            "10/10 [==============================] - 0s 11ms/step - loss: 0.2269 - acc: 0.9223 - val_loss: 1.3771 - val_acc: 0.6622\n",
            "Epoch 95/100\n",
            "10/10 [==============================] - 0s 12ms/step - loss: 0.3950 - acc: 0.8953 - val_loss: 1.4665 - val_acc: 0.6622\n",
            "Epoch 96/100\n",
            "10/10 [==============================] - 0s 11ms/step - loss: 0.4375 - acc: 0.8480 - val_loss: 1.4907 - val_acc: 0.6622\n",
            "Epoch 97/100\n",
            "10/10 [==============================] - 0s 11ms/step - loss: 0.5705 - acc: 0.8176 - val_loss: 1.0766 - val_acc: 0.6892\n",
            "Epoch 98/100\n",
            "10/10 [==============================] - 0s 11ms/step - loss: 0.4368 - acc: 0.8412 - val_loss: 1.0231 - val_acc: 0.7162\n",
            "Epoch 99/100\n",
            "10/10 [==============================] - 0s 11ms/step - loss: 0.3666 - acc: 0.8615 - val_loss: 1.0124 - val_acc: 0.6757\n",
            "Epoch 100/100\n",
            "10/10 [==============================] - 0s 11ms/step - loss: 0.3474 - acc: 0.8716 - val_loss: 0.9539 - val_acc: 0.7027\n"
          ]
        },
        {
          "output_type": "execute_result",
          "data": {
            "text/plain": [
              "<keras.callbacks.History at 0x7f75262cd870>"
            ]
          },
          "metadata": {},
          "execution_count": 60
        }
      ]
    },
    {
      "cell_type": "code",
      "source": [
        "test_accuracy=model.evaluate(X_test,y_test,verbose=0)\n",
        "print(test_accuracy[1])"
      ],
      "metadata": {
        "colab": {
          "base_uri": "https://localhost:8080/"
        },
        "id": "OBmuGHPD-oVj",
        "outputId": "d36675fe-52e6-4c4d-d8ea-5e2f1f468459"
      },
      "id": "OBmuGHPD-oVj",
      "execution_count": null,
      "outputs": [
        {
          "output_type": "stream",
          "name": "stdout",
          "text": [
            "0.7027027010917664\n"
          ]
        }
      ]
    },
    {
      "cell_type": "markdown",
      "source": [
        "### Making predictions into OneHot encoded format and converting it into real classs names"
      ],
      "metadata": {
        "id": "Goh8S1MWAD0G"
      },
      "id": "Goh8S1MWAD0G"
    },
    {
      "cell_type": "code",
      "source": [
        "y_pred_lstm = model.predict(X_test)\n",
        "\n",
        "predictions_lstm = []\n",
        "\n",
        "for row in y_pred_lstm:\n",
        "  label = np.zeros(7)\n",
        "  label[np.argmax(row)] = 1\n",
        "  label.reshape(1, -1)\n",
        "  predictions_lstm.append(label.tolist())\n",
        "  label = None"
      ],
      "metadata": {
        "colab": {
          "base_uri": "https://localhost:8080/"
        },
        "id": "EKFZTbCY_E4q",
        "outputId": "0debe504-2899-4814-9757-52cab7905304"
      },
      "id": "EKFZTbCY_E4q",
      "execution_count": null,
      "outputs": [
        {
          "output_type": "stream",
          "name": "stdout",
          "text": [
            "3/3 [==============================] - 0s 4ms/step\n"
          ]
        }
      ]
    },
    {
      "cell_type": "code",
      "source": [
        "predictions_lstm = encoder.inverse_transform(predictions_lstm)"
      ],
      "metadata": {
        "id": "2rbnforH_UvX"
      },
      "id": "2rbnforH_UvX",
      "execution_count": null,
      "outputs": []
    },
    {
      "cell_type": "code",
      "source": [
        "print(predictions_lstm)"
      ],
      "metadata": {
        "colab": {
          "base_uri": "https://localhost:8080/"
        },
        "collapsed": true,
        "id": "IhCw7nMb_gsX",
        "outputId": "447654fd-0d8e-4330-ed18-b4ca5a85032e"
      },
      "id": "IhCw7nMb_gsX",
      "execution_count": null,
      "outputs": [
        {
          "output_type": "stream",
          "name": "stdout",
          "text": [
            "[['barishal']\n",
            " ['sylhet']\n",
            " ['puran dhaka']\n",
            " ['barishal']\n",
            " ['shatkhira']\n",
            " ['noakhali']\n",
            " ['barishal']\n",
            " ['noakhali']\n",
            " ['barishal']\n",
            " ['puran dhaka']\n",
            " ['maymenshing']\n",
            " ['puran dhaka']\n",
            " ['puran dhaka']\n",
            " ['puran dhaka']\n",
            " ['noakhali']\n",
            " ['sylhet']\n",
            " ['maymenshing']\n",
            " ['noakhali']\n",
            " ['puran dhaka']\n",
            " ['barishal']\n",
            " ['maymenshing']\n",
            " ['noakhali']\n",
            " ['shatkhira']\n",
            " ['sylhet']\n",
            " ['noakhali']\n",
            " ['puran dhaka']\n",
            " ['barishal']\n",
            " ['maymenshing']\n",
            " ['shatkhira']\n",
            " ['puran dhaka']\n",
            " ['barishal']\n",
            " ['noakhali']\n",
            " ['noakhali']\n",
            " ['barishal']\n",
            " ['sylhet']\n",
            " ['barishal']\n",
            " ['puran dhaka']\n",
            " ['noakhali']\n",
            " ['noakhali']\n",
            " ['sylhet']\n",
            " ['barishal']\n",
            " ['barishal']\n",
            " ['sylhet']\n",
            " ['barishal']\n",
            " ['noakhali']\n",
            " ['puran dhaka']\n",
            " ['noakhali']\n",
            " ['shatkhira']\n",
            " ['barishal']\n",
            " ['noakhali']\n",
            " ['chottogram']\n",
            " ['noakhali']\n",
            " ['shatkhira']\n",
            " ['puran dhaka']\n",
            " ['maymenshing']\n",
            " ['puran dhaka']\n",
            " ['barishal']\n",
            " ['shatkhira']\n",
            " ['barishal']\n",
            " ['barishal']\n",
            " ['barishal']\n",
            " ['maymenshing']\n",
            " ['chottogram']\n",
            " ['puran dhaka']\n",
            " ['puran dhaka']\n",
            " ['puran dhaka']\n",
            " ['puran dhaka']\n",
            " ['barishal']\n",
            " ['shatkhira']\n",
            " ['noakhali']\n",
            " ['maymenshing']\n",
            " ['shatkhira']\n",
            " ['noakhali']\n",
            " ['noakhali']]\n"
          ]
        }
      ]
    },
    {
      "cell_type": "markdown",
      "source": [
        "### Finding evaluation parameters"
      ],
      "metadata": {
        "id": "Lhcd3Uc-AUbX"
      },
      "id": "Lhcd3Uc-AUbX"
    },
    {
      "cell_type": "code",
      "source": [
        "print('Accuracy score : ', accuracy_score(y_test_for_eval, predictions_lstm))\n",
        "print('Precision score: ', precision_score(y_test_for_eval, predictions_lstm, average='weighted'))\n",
        "print('Recall score   : ', recall_score(y_test_for_eval, predictions_lstm, average='weighted'))\n",
        "print('F1 Score       : ', f1_score(y_test_for_eval, predictions_lstm, average='weighted'))"
      ],
      "metadata": {
        "colab": {
          "base_uri": "https://localhost:8080/"
        },
        "id": "PJoAmo2F_pdd",
        "outputId": "d54cb782-12dc-47d1-e926-7bcad0430e29"
      },
      "id": "PJoAmo2F_pdd",
      "execution_count": null,
      "outputs": [
        {
          "output_type": "stream",
          "name": "stdout",
          "text": [
            "Accuracy score :  0.7027027027027027\n",
            "Precision score:  0.7816498220909985\n",
            "Recall score   :  0.7027027027027027\n",
            "F1 Score       :  0.7198642988116672\n"
          ]
        }
      ]
    },
    {
      "cell_type": "code",
      "source": [
        "print(classification_report(y_test_for_eval, predictions_lstm))"
      ],
      "metadata": {
        "colab": {
          "base_uri": "https://localhost:8080/"
        },
        "id": "XnhAzhSV_wPG",
        "outputId": "740f1ce1-4a94-41e0-ee1b-242dc33e44a3"
      },
      "id": "XnhAzhSV_wPG",
      "execution_count": null,
      "outputs": [
        {
          "output_type": "stream",
          "name": "stdout",
          "text": [
            "              precision    recall  f1-score   support\n",
            "\n",
            "    barishal       0.83      0.71      0.77        21\n",
            "  chottogram       1.00      0.40      0.57         5\n",
            " maymenshing       0.57      1.00      0.73         4\n",
            "    noakhali       0.94      0.76      0.84        21\n",
            " puran dhaka       0.62      0.59      0.61        17\n",
            "   shatkhira       0.50      0.80      0.62         5\n",
            "      sylhet       0.17      1.00      0.29         1\n",
            "\n",
            "    accuracy                           0.70        74\n",
            "   macro avg       0.66      0.75      0.63        74\n",
            "weighted avg       0.78      0.70      0.72        74\n",
            "\n"
          ]
        }
      ]
    },
    {
      "cell_type": "code",
      "source": [
        "cm = confusion_matrix(y_test_for_eval, predictions_lstm, labels=metadata['accent'].unique())\n",
        "disp = ConfusionMatrixDisplay(confusion_matrix=cm, display_labels=metadata['accent'].unique())\n",
        "fig, ax = plt.subplots(figsize=(15,8))\n",
        "disp.plot(ax=ax)\n",
        "plt.show()"
      ],
      "metadata": {
        "colab": {
          "base_uri": "https://localhost:8080/",
          "height": 701
        },
        "id": "wNLwmUP7vux-",
        "outputId": "3b6a3e07-be7a-4feb-ff5e-b789c15819a8"
      },
      "id": "wNLwmUP7vux-",
      "execution_count": null,
      "outputs": [
        {
          "output_type": "display_data",
          "data": {
            "text/plain": [
              "<Figure size 1500x800 with 2 Axes>"
            ],
            "image/png": "[encoded data removed]"
          },
          "metadata": {}
        }
      ]
    }
  ],
  "metadata": {
    "kernelspec": {
      "display_name": "Python 3",
      "language": "python",
      "name": "python3"
    },
    "language_info": {
      "codemirror_mode": {
        "name": "ipython",
        "version": 3
      },
      "file_extension": ".py",
      "mimetype": "text/x-python",
      "name": "python",
      "nbconvert_exporter": "python",
      "pygments_lexer": "ipython3",
      "version": "3.8.5"
    },
    "colab": {
      "provenance": [],
      "gpuType": "T4",
      "toc_visible": true,
      "include_colab_link": true
    },
    "accelerator": "GPU",
    "gpuClass": "standard"
  },
  "nbformat": 4,
  "nbformat_minor": 5
}